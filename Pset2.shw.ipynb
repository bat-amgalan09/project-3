{
 "cells": [
  {
   "cell_type": "markdown",
   "metadata": {},
   "source": [
    "# UB Apartment Price Prediction"
   ]
  },
  {
   "cell_type": "markdown",
   "metadata": {},
   "source": [
    "An explanation of key features:\n",
    "- `rooms`: number of rooms in apartment\n",
    "- `year_built`: the reported year the building was made\n",
    "- `location`: the neighborhood or more specific location than district\n",
    "- `building_floor_num`: number of floors in building\n",
    "- `garage`: is a garage available\n",
    "- `district`: district in Ulaanbaatar\n",
    "- `leasing`: is private or bank leasing available?\n",
    "- `balcony`: how many balconies does the apartment have?\n",
    "- `size_meters`: size of apartment in meters\n",
    "- `door_type`: type of front door\n",
    "- `apartment_floor_num`: the floor the apartment is located on\n",
    "- `window_type`: the type of the windows\n",
    "- `num_windows`: the number of windows in the apartment\n",
    "- `floor_type`: the type of the floor in the apartment"
   ]
  },
  {
   "cell_type": "markdown",
   "metadata": {},
   "source": [
    "At first, when I haven't seen lectures, I've used .replace() function to encode all the catergorical variables into numbers. Because that I've used those converted data to make prediction and upload on Ml.Letu.net I've kept them that way. So basically after EDA section, there are two different parts that I encoded the categorical data. First, the one that I used .replace() and predictions. Second, the one that I've supposed to do it like. Used label encoding."
   ]
  },
  {
   "cell_type": "markdown",
   "metadata": {},
   "source": [
    "## Importing Libraries 1"
   ]
  },
  {
   "cell_type": "code",
   "execution_count": 2,
   "metadata": {},
   "outputs": [],
   "source": [
    "import pandas as pd\n",
    "import matplotlib.pyplot as plt\n",
    "from matplotlib import pyplot\n",
    "import seaborn as sns\n",
    "import plotly.express as px\n",
    "import numpy as np\n",
    "%matplotlib inline\n",
    "pd.set_option('display.float_format', lambda x: '%.5f' % x)\n",
    "plt.style.use('fivethirtyeight')\n",
    "plt.rcParams['figure.figsize'] =  (12, 8)"
   ]
  },
  {
   "cell_type": "code",
   "execution_count": 3,
   "metadata": {},
   "outputs": [],
   "source": [
    "y = pd.read_csv('y.csv', thousands=',')"
   ]
  },
  {
   "cell_type": "code",
   "execution_count": 4,
   "metadata": {},
   "outputs": [],
   "source": [
    "X = pd.read_csv('X.csv', thousands=',')"
   ]
  },
  {
   "cell_type": "code",
   "execution_count": 5,
   "metadata": {},
   "outputs": [],
   "source": [
    "test = pd.read_csv('test.csv', index_col='id', thousands=',')"
   ]
  },
  {
   "cell_type": "code",
   "execution_count": 6,
   "metadata": {},
   "outputs": [
    {
     "data": {
      "text/html": [
       "<div>\n",
       "<style scoped>\n",
       "    .dataframe tbody tr th:only-of-type {\n",
       "        vertical-align: middle;\n",
       "    }\n",
       "\n",
       "    .dataframe tbody tr th {\n",
       "        vertical-align: top;\n",
       "    }\n",
       "\n",
       "    .dataframe thead th {\n",
       "        text-align: right;\n",
       "    }\n",
       "</style>\n",
       "<table border=\"1\" class=\"dataframe\">\n",
       "  <thead>\n",
       "    <tr style=\"text-align: right;\">\n",
       "      <th></th>\n",
       "      <th>price</th>\n",
       "    </tr>\n",
       "  </thead>\n",
       "  <tbody>\n",
       "    <tr>\n",
       "      <th>0</th>\n",
       "      <td>2654028.43602</td>\n",
       "    </tr>\n",
       "    <tr>\n",
       "      <th>1</th>\n",
       "      <td>1737704.91803</td>\n",
       "    </tr>\n",
       "    <tr>\n",
       "      <th>2</th>\n",
       "      <td>1773049.64539</td>\n",
       "    </tr>\n",
       "    <tr>\n",
       "      <th>3</th>\n",
       "      <td>1520527.11607</td>\n",
       "    </tr>\n",
       "    <tr>\n",
       "      <th>4</th>\n",
       "      <td>1107142.85714</td>\n",
       "    </tr>\n",
       "    <tr>\n",
       "      <th>...</th>\n",
       "      <td>...</td>\n",
       "    </tr>\n",
       "    <tr>\n",
       "      <th>3857</th>\n",
       "      <td>1851851.85185</td>\n",
       "    </tr>\n",
       "    <tr>\n",
       "      <th>3858</th>\n",
       "      <td>2063492.06349</td>\n",
       "    </tr>\n",
       "    <tr>\n",
       "      <th>3859</th>\n",
       "      <td>1631578.94737</td>\n",
       "    </tr>\n",
       "    <tr>\n",
       "      <th>3860</th>\n",
       "      <td>1763440.86022</td>\n",
       "    </tr>\n",
       "    <tr>\n",
       "      <th>3861</th>\n",
       "      <td>1600000.00000</td>\n",
       "    </tr>\n",
       "  </tbody>\n",
       "</table>\n",
       "<p>3862 rows × 1 columns</p>\n",
       "</div>"
      ],
      "text/plain": [
       "             price\n",
       "0    2654028.43602\n",
       "1    1737704.91803\n",
       "2    1773049.64539\n",
       "3    1520527.11607\n",
       "4    1107142.85714\n",
       "...            ...\n",
       "3857 1851851.85185\n",
       "3858 2063492.06349\n",
       "3859 1631578.94737\n",
       "3860 1763440.86022\n",
       "3861 1600000.00000\n",
       "\n",
       "[3862 rows x 1 columns]"
      ]
     },
     "execution_count": 6,
     "metadata": {},
     "output_type": "execute_result"
    }
   ],
   "source": [
    "y"
   ]
  },
  {
   "cell_type": "code",
   "execution_count": 7,
   "metadata": {},
   "outputs": [
    {
     "data": {
      "text/html": [
       "<div>\n",
       "<style scoped>\n",
       "    .dataframe tbody tr th:only-of-type {\n",
       "        vertical-align: middle;\n",
       "    }\n",
       "\n",
       "    .dataframe tbody tr th {\n",
       "        vertical-align: top;\n",
       "    }\n",
       "\n",
       "    .dataframe thead th {\n",
       "        text-align: right;\n",
       "    }\n",
       "</style>\n",
       "<table border=\"1\" class=\"dataframe\">\n",
       "  <thead>\n",
       "    <tr style=\"text-align: right;\">\n",
       "      <th></th>\n",
       "      <th>rooms</th>\n",
       "      <th>year_built</th>\n",
       "      <th>location</th>\n",
       "      <th>building_floor_num</th>\n",
       "      <th>garage</th>\n",
       "      <th>district</th>\n",
       "      <th>leasing</th>\n",
       "      <th>balcony</th>\n",
       "      <th>size_meters</th>\n",
       "      <th>door_type</th>\n",
       "      <th>apartment_floor_num</th>\n",
       "      <th>window_type</th>\n",
       "      <th>num_windows</th>\n",
       "      <th>floor_type</th>\n",
       "    </tr>\n",
       "  </thead>\n",
       "  <tbody>\n",
       "    <tr>\n",
       "      <th>0</th>\n",
       "      <td>5+ өрөө</td>\n",
       "      <td>2010</td>\n",
       "      <td>Зайсан</td>\n",
       "      <td>14</td>\n",
       "      <td>Байгаа</td>\n",
       "      <td>Хан-Уул</td>\n",
       "      <td>Лизинггүй</td>\n",
       "      <td>2 тагттай</td>\n",
       "      <td>105.50000</td>\n",
       "      <td>Төмөр вакум</td>\n",
       "      <td>5</td>\n",
       "      <td>Модон вакум</td>\n",
       "      <td>5</td>\n",
       "      <td>Паркет</td>\n",
       "    </tr>\n",
       "    <tr>\n",
       "      <th>1</th>\n",
       "      <td>2 өрөө</td>\n",
       "      <td>2019</td>\n",
       "      <td>Нисэх</td>\n",
       "      <td>12</td>\n",
       "      <td>Байгаа</td>\n",
       "      <td>Хан-Уул</td>\n",
       "      <td>Хувь лизингтэй</td>\n",
       "      <td>1 тагттай</td>\n",
       "      <td>61.00000</td>\n",
       "      <td>Төмөр</td>\n",
       "      <td>6</td>\n",
       "      <td>Вакум</td>\n",
       "      <td>3</td>\n",
       "      <td>Паркет</td>\n",
       "    </tr>\n",
       "    <tr>\n",
       "      <th>2</th>\n",
       "      <td>2 өрөө</td>\n",
       "      <td>2017</td>\n",
       "      <td>Бусад</td>\n",
       "      <td>16</td>\n",
       "      <td>Байгаа</td>\n",
       "      <td>Баянзүрх</td>\n",
       "      <td>Банкны лизингтэй</td>\n",
       "      <td>1 тагттай</td>\n",
       "      <td>42.30000</td>\n",
       "      <td>Вакум</td>\n",
       "      <td>9</td>\n",
       "      <td>Вакум</td>\n",
       "      <td>2</td>\n",
       "      <td>Паркет</td>\n",
       "    </tr>\n",
       "    <tr>\n",
       "      <th>3</th>\n",
       "      <td>2 өрөө</td>\n",
       "      <td>2009</td>\n",
       "      <td>25-р эмийн сан</td>\n",
       "      <td>6</td>\n",
       "      <td>Байгаа</td>\n",
       "      <td>Баянгол</td>\n",
       "      <td>Лизинггүй</td>\n",
       "      <td>1 тагттай</td>\n",
       "      <td>59.19000</td>\n",
       "      <td>Бүргэд</td>\n",
       "      <td>2</td>\n",
       "      <td>Вакум</td>\n",
       "      <td>4</td>\n",
       "      <td>Паркет</td>\n",
       "    </tr>\n",
       "    <tr>\n",
       "      <th>4</th>\n",
       "      <td>2 өрөө</td>\n",
       "      <td>1994</td>\n",
       "      <td>21-р хороолол</td>\n",
       "      <td>5</td>\n",
       "      <td>Байхгүй</td>\n",
       "      <td>Сонгино Хайрхан</td>\n",
       "      <td>Лизинггүй</td>\n",
       "      <td>1 тагттай</td>\n",
       "      <td>56.00000</td>\n",
       "      <td>Бүргэд</td>\n",
       "      <td>1</td>\n",
       "      <td>Вакум</td>\n",
       "      <td>3</td>\n",
       "      <td>Цемент</td>\n",
       "    </tr>\n",
       "    <tr>\n",
       "      <th>...</th>\n",
       "      <td>...</td>\n",
       "      <td>...</td>\n",
       "      <td>...</td>\n",
       "      <td>...</td>\n",
       "      <td>...</td>\n",
       "      <td>...</td>\n",
       "      <td>...</td>\n",
       "      <td>...</td>\n",
       "      <td>...</td>\n",
       "      <td>...</td>\n",
       "      <td>...</td>\n",
       "      <td>...</td>\n",
       "      <td>...</td>\n",
       "      <td>...</td>\n",
       "    </tr>\n",
       "    <tr>\n",
       "      <th>3857</th>\n",
       "      <td>2 өрөө</td>\n",
       "      <td>2020</td>\n",
       "      <td>Яармаг</td>\n",
       "      <td>12</td>\n",
       "      <td>Байгаа</td>\n",
       "      <td>Хан-Уул</td>\n",
       "      <td>Лизинггүй</td>\n",
       "      <td>1 тагттай</td>\n",
       "      <td>54.00000</td>\n",
       "      <td>Төмөр</td>\n",
       "      <td>5</td>\n",
       "      <td>Вакум</td>\n",
       "      <td>4</td>\n",
       "      <td>Паркет</td>\n",
       "    </tr>\n",
       "    <tr>\n",
       "      <th>3858</th>\n",
       "      <td>2 өрөө</td>\n",
       "      <td>2014</td>\n",
       "      <td>Баянбүрд</td>\n",
       "      <td>12</td>\n",
       "      <td>Байгаа</td>\n",
       "      <td>Чингэлтэй</td>\n",
       "      <td>Банкны лизингтэй</td>\n",
       "      <td>1 тагттай</td>\n",
       "      <td>63.00000</td>\n",
       "      <td>Бүргэд</td>\n",
       "      <td>4</td>\n",
       "      <td>Вакум</td>\n",
       "      <td>5</td>\n",
       "      <td>Паркет</td>\n",
       "    </tr>\n",
       "    <tr>\n",
       "      <th>3859</th>\n",
       "      <td>1 өрөө</td>\n",
       "      <td>2014</td>\n",
       "      <td>100 айл</td>\n",
       "      <td>12</td>\n",
       "      <td>Байхгүй</td>\n",
       "      <td>Сүхбаатар</td>\n",
       "      <td>Банкны лизингтэй</td>\n",
       "      <td>1 тагттай</td>\n",
       "      <td>38.00000</td>\n",
       "      <td>Бүргэд</td>\n",
       "      <td>8</td>\n",
       "      <td>Вакум</td>\n",
       "      <td>2</td>\n",
       "      <td>Паркет</td>\n",
       "    </tr>\n",
       "    <tr>\n",
       "      <th>3860</th>\n",
       "      <td>2 өрөө</td>\n",
       "      <td>2019</td>\n",
       "      <td>Бусад</td>\n",
       "      <td>12</td>\n",
       "      <td>Байхгүй</td>\n",
       "      <td>Хан-Уул</td>\n",
       "      <td>Лизинггүй</td>\n",
       "      <td>1 тагттай</td>\n",
       "      <td>46.50000</td>\n",
       "      <td>Бүргэд</td>\n",
       "      <td>4</td>\n",
       "      <td>Вакум</td>\n",
       "      <td>2</td>\n",
       "      <td>Паркет</td>\n",
       "    </tr>\n",
       "    <tr>\n",
       "      <th>3861</th>\n",
       "      <td>2 өрөө</td>\n",
       "      <td>2015</td>\n",
       "      <td>100 айл</td>\n",
       "      <td>12</td>\n",
       "      <td>Байхгүй</td>\n",
       "      <td>Баянзүрх</td>\n",
       "      <td>Лизинггүй</td>\n",
       "      <td>1 тагттай</td>\n",
       "      <td>45.00000</td>\n",
       "      <td>Бүргэд</td>\n",
       "      <td>5</td>\n",
       "      <td>Вакум</td>\n",
       "      <td>3</td>\n",
       "      <td>Паркет</td>\n",
       "    </tr>\n",
       "  </tbody>\n",
       "</table>\n",
       "<p>3862 rows × 14 columns</p>\n",
       "</div>"
      ],
      "text/plain": [
       "        rooms  year_built        location  building_floor_num   garage  \\\n",
       "0     5+ өрөө        2010          Зайсан                  14   Байгаа   \n",
       "1      2 өрөө        2019           Нисэх                  12   Байгаа   \n",
       "2      2 өрөө        2017           Бусад                  16   Байгаа   \n",
       "3      2 өрөө        2009  25-р эмийн сан                   6   Байгаа   \n",
       "4      2 өрөө        1994   21-р хороолол                   5  Байхгүй   \n",
       "...       ...         ...             ...                 ...      ...   \n",
       "3857   2 өрөө        2020          Яармаг                  12   Байгаа   \n",
       "3858   2 өрөө        2014        Баянбүрд                  12   Байгаа   \n",
       "3859   1 өрөө        2014         100 айл                  12  Байхгүй   \n",
       "3860   2 өрөө        2019           Бусад                  12  Байхгүй   \n",
       "3861   2 өрөө        2015         100 айл                  12  Байхгүй   \n",
       "\n",
       "             district           leasing    balcony  size_meters    door_type  \\\n",
       "0             Хан-Уул         Лизинггүй  2 тагттай    105.50000  Төмөр вакум   \n",
       "1             Хан-Уул    Хувь лизингтэй  1 тагттай     61.00000        Төмөр   \n",
       "2            Баянзүрх  Банкны лизингтэй  1 тагттай     42.30000        Вакум   \n",
       "3             Баянгол         Лизинггүй  1 тагттай     59.19000       Бүргэд   \n",
       "4     Сонгино Хайрхан         Лизинггүй  1 тагттай     56.00000       Бүргэд   \n",
       "...               ...               ...        ...          ...          ...   \n",
       "3857          Хан-Уул         Лизинггүй  1 тагттай     54.00000        Төмөр   \n",
       "3858        Чингэлтэй  Банкны лизингтэй  1 тагттай     63.00000       Бүргэд   \n",
       "3859        Сүхбаатар  Банкны лизингтэй  1 тагттай     38.00000       Бүргэд   \n",
       "3860          Хан-Уул         Лизинггүй  1 тагттай     46.50000       Бүргэд   \n",
       "3861         Баянзүрх         Лизинггүй  1 тагттай     45.00000       Бүргэд   \n",
       "\n",
       "      apartment_floor_num  window_type  num_windows floor_type  \n",
       "0                       5  Модон вакум            5     Паркет  \n",
       "1                       6        Вакум            3     Паркет  \n",
       "2                       9        Вакум            2     Паркет  \n",
       "3                       2        Вакум            4     Паркет  \n",
       "4                       1        Вакум            3     Цемент  \n",
       "...                   ...          ...          ...        ...  \n",
       "3857                    5        Вакум            4     Паркет  \n",
       "3858                    4        Вакум            5     Паркет  \n",
       "3859                    8        Вакум            2     Паркет  \n",
       "3860                    4        Вакум            2     Паркет  \n",
       "3861                    5        Вакум            3     Паркет  \n",
       "\n",
       "[3862 rows x 14 columns]"
      ]
     },
     "execution_count": 7,
     "metadata": {},
     "output_type": "execute_result"
    }
   ],
   "source": [
    "X"
   ]
  },
  {
   "cell_type": "code",
   "execution_count": 8,
   "metadata": {},
   "outputs": [
    {
     "data": {
      "text/html": [
       "<div>\n",
       "<style scoped>\n",
       "    .dataframe tbody tr th:only-of-type {\n",
       "        vertical-align: middle;\n",
       "    }\n",
       "\n",
       "    .dataframe tbody tr th {\n",
       "        vertical-align: top;\n",
       "    }\n",
       "\n",
       "    .dataframe thead th {\n",
       "        text-align: right;\n",
       "    }\n",
       "</style>\n",
       "<table border=\"1\" class=\"dataframe\">\n",
       "  <thead>\n",
       "    <tr style=\"text-align: right;\">\n",
       "      <th></th>\n",
       "      <th>rooms</th>\n",
       "      <th>year_built</th>\n",
       "      <th>location</th>\n",
       "      <th>building_floor_num</th>\n",
       "      <th>garage</th>\n",
       "      <th>district</th>\n",
       "      <th>leasing</th>\n",
       "      <th>balcony</th>\n",
       "      <th>size_meters</th>\n",
       "      <th>door_type</th>\n",
       "      <th>apartment_floor_num</th>\n",
       "      <th>window_type</th>\n",
       "      <th>num_windows</th>\n",
       "      <th>floor_type</th>\n",
       "    </tr>\n",
       "    <tr>\n",
       "      <th>id</th>\n",
       "      <th></th>\n",
       "      <th></th>\n",
       "      <th></th>\n",
       "      <th></th>\n",
       "      <th></th>\n",
       "      <th></th>\n",
       "      <th></th>\n",
       "      <th></th>\n",
       "      <th></th>\n",
       "      <th></th>\n",
       "      <th></th>\n",
       "      <th></th>\n",
       "      <th></th>\n",
       "      <th></th>\n",
       "    </tr>\n",
       "  </thead>\n",
       "  <tbody>\n",
       "    <tr>\n",
       "      <th>3901</th>\n",
       "      <td>2 өрөө</td>\n",
       "      <td>2019</td>\n",
       "      <td>100 айл</td>\n",
       "      <td>12</td>\n",
       "      <td>Байхгүй</td>\n",
       "      <td>Сүхбаатар</td>\n",
       "      <td>Лизинггүй</td>\n",
       "      <td>1 тагттай</td>\n",
       "      <td>38.00000</td>\n",
       "      <td>Бүргэд</td>\n",
       "      <td>3</td>\n",
       "      <td>Вакум</td>\n",
       "      <td>2</td>\n",
       "      <td>Паркет</td>\n",
       "    </tr>\n",
       "    <tr>\n",
       "      <th>353</th>\n",
       "      <td>2 өрөө</td>\n",
       "      <td>2019</td>\n",
       "      <td>15-р хороолол</td>\n",
       "      <td>16</td>\n",
       "      <td>Байхгүй</td>\n",
       "      <td>Баянзүрх</td>\n",
       "      <td>Лизинггүй</td>\n",
       "      <td>1 тагттай</td>\n",
       "      <td>51.00000</td>\n",
       "      <td>Бүргэд</td>\n",
       "      <td>3</td>\n",
       "      <td>Вакум</td>\n",
       "      <td>2</td>\n",
       "      <td>Паркет</td>\n",
       "    </tr>\n",
       "    <tr>\n",
       "      <th>2978</th>\n",
       "      <td>1 өрөө</td>\n",
       "      <td>1980</td>\n",
       "      <td>3, 4 хороолол</td>\n",
       "      <td>9</td>\n",
       "      <td>Байхгүй</td>\n",
       "      <td>Баянгол</td>\n",
       "      <td>Лизинггүй</td>\n",
       "      <td>1 тагттай</td>\n",
       "      <td>36.60000</td>\n",
       "      <td>Бүргэд</td>\n",
       "      <td>8</td>\n",
       "      <td>Вакум</td>\n",
       "      <td>2</td>\n",
       "      <td>Паркет</td>\n",
       "    </tr>\n",
       "    <tr>\n",
       "      <th>1197</th>\n",
       "      <td>1 өрөө</td>\n",
       "      <td>2010</td>\n",
       "      <td>Баянбүрд</td>\n",
       "      <td>10</td>\n",
       "      <td>Байхгүй</td>\n",
       "      <td>Чингэлтэй</td>\n",
       "      <td>Лизинггүй</td>\n",
       "      <td>1 тагттай</td>\n",
       "      <td>29.00000</td>\n",
       "      <td>Бүргэд</td>\n",
       "      <td>5</td>\n",
       "      <td>Вакум</td>\n",
       "      <td>1</td>\n",
       "      <td>Паркет</td>\n",
       "    </tr>\n",
       "    <tr>\n",
       "      <th>2121</th>\n",
       "      <td>2 өрөө</td>\n",
       "      <td>2017</td>\n",
       "      <td>Зайсан</td>\n",
       "      <td>9</td>\n",
       "      <td>Байхгүй</td>\n",
       "      <td>Хан-Уул</td>\n",
       "      <td>Лизинггүй</td>\n",
       "      <td>1 тагттай</td>\n",
       "      <td>101.00000</td>\n",
       "      <td>Бүргэд</td>\n",
       "      <td>8</td>\n",
       "      <td>Вакум</td>\n",
       "      <td>3</td>\n",
       "      <td>Паркет</td>\n",
       "    </tr>\n",
       "    <tr>\n",
       "      <th>...</th>\n",
       "      <td>...</td>\n",
       "      <td>...</td>\n",
       "      <td>...</td>\n",
       "      <td>...</td>\n",
       "      <td>...</td>\n",
       "      <td>...</td>\n",
       "      <td>...</td>\n",
       "      <td>...</td>\n",
       "      <td>...</td>\n",
       "      <td>...</td>\n",
       "      <td>...</td>\n",
       "      <td>...</td>\n",
       "      <td>...</td>\n",
       "      <td>...</td>\n",
       "    </tr>\n",
       "    <tr>\n",
       "      <th>550</th>\n",
       "      <td>3 өрөө</td>\n",
       "      <td>2015</td>\n",
       "      <td>Зайсан</td>\n",
       "      <td>12</td>\n",
       "      <td>Байхгүй</td>\n",
       "      <td>Хан-Уул</td>\n",
       "      <td>Банкны лизингтэй</td>\n",
       "      <td>1 тагттай</td>\n",
       "      <td>108.00000</td>\n",
       "      <td>Бүргэд</td>\n",
       "      <td>1</td>\n",
       "      <td>Вакум</td>\n",
       "      <td>4</td>\n",
       "      <td>Паркет</td>\n",
       "    </tr>\n",
       "    <tr>\n",
       "      <th>2998</th>\n",
       "      <td>5+ өрөө</td>\n",
       "      <td>2014</td>\n",
       "      <td>Зайсан</td>\n",
       "      <td>9</td>\n",
       "      <td>Байгаа</td>\n",
       "      <td>Хан-Уул</td>\n",
       "      <td>Лизинггүй</td>\n",
       "      <td>1 тагттай</td>\n",
       "      <td>137.00000</td>\n",
       "      <td>Бүргэд</td>\n",
       "      <td>6</td>\n",
       "      <td>Вакум</td>\n",
       "      <td>6</td>\n",
       "      <td>Паркет</td>\n",
       "    </tr>\n",
       "    <tr>\n",
       "      <th>1862</th>\n",
       "      <td>1 өрөө</td>\n",
       "      <td>2013</td>\n",
       "      <td>13-р хороолол</td>\n",
       "      <td>12</td>\n",
       "      <td>Байхгүй</td>\n",
       "      <td>Баянзүрх</td>\n",
       "      <td>Лизинггүй</td>\n",
       "      <td>1 тагттай</td>\n",
       "      <td>26.16000</td>\n",
       "      <td>Бүргэд</td>\n",
       "      <td>8</td>\n",
       "      <td>Вакум</td>\n",
       "      <td>1</td>\n",
       "      <td>Паркет</td>\n",
       "    </tr>\n",
       "    <tr>\n",
       "      <th>3456</th>\n",
       "      <td>3 өрөө</td>\n",
       "      <td>1994</td>\n",
       "      <td>Төмөр зам</td>\n",
       "      <td>5</td>\n",
       "      <td>Байхгүй</td>\n",
       "      <td>Баянгол</td>\n",
       "      <td>Лизинггүй</td>\n",
       "      <td>1 тагттай</td>\n",
       "      <td>56.60000</td>\n",
       "      <td>Бүргэд</td>\n",
       "      <td>4</td>\n",
       "      <td>Вакум</td>\n",
       "      <td>4</td>\n",
       "      <td>Паркет</td>\n",
       "    </tr>\n",
       "    <tr>\n",
       "      <th>3273</th>\n",
       "      <td>4 өрөө</td>\n",
       "      <td>2018</td>\n",
       "      <td>Бусад</td>\n",
       "      <td>9</td>\n",
       "      <td>Байхгүй</td>\n",
       "      <td>Чингэлтэй</td>\n",
       "      <td>Лизинггүй</td>\n",
       "      <td>Тагтгүй</td>\n",
       "      <td>100.00000</td>\n",
       "      <td>Төмөр</td>\n",
       "      <td>6</td>\n",
       "      <td>Модон вакум</td>\n",
       "      <td>5</td>\n",
       "      <td>Паркет</td>\n",
       "    </tr>\n",
       "  </tbody>\n",
       "</table>\n",
       "<p>966 rows × 14 columns</p>\n",
       "</div>"
      ],
      "text/plain": [
       "        rooms  year_built       location  building_floor_num   garage  \\\n",
       "id                                                                      \n",
       "3901   2 өрөө        2019        100 айл                  12  Байхгүй   \n",
       "353    2 өрөө        2019  15-р хороолол                  16  Байхгүй   \n",
       "2978   1 өрөө        1980  3, 4 хороолол                   9  Байхгүй   \n",
       "1197   1 өрөө        2010       Баянбүрд                  10  Байхгүй   \n",
       "2121   2 өрөө        2017         Зайсан                   9  Байхгүй   \n",
       "...       ...         ...            ...                 ...      ...   \n",
       "550    3 өрөө        2015         Зайсан                  12  Байхгүй   \n",
       "2998  5+ өрөө        2014         Зайсан                   9   Байгаа   \n",
       "1862   1 өрөө        2013  13-р хороолол                  12  Байхгүй   \n",
       "3456   3 өрөө        1994      Төмөр зам                   5  Байхгүй   \n",
       "3273   4 өрөө        2018          Бусад                   9  Байхгүй   \n",
       "\n",
       "       district           leasing    balcony  size_meters door_type  \\\n",
       "id                                                                    \n",
       "3901  Сүхбаатар         Лизинггүй  1 тагттай     38.00000    Бүргэд   \n",
       "353    Баянзүрх         Лизинггүй  1 тагттай     51.00000    Бүргэд   \n",
       "2978    Баянгол         Лизинггүй  1 тагттай     36.60000    Бүргэд   \n",
       "1197  Чингэлтэй         Лизинггүй  1 тагттай     29.00000    Бүргэд   \n",
       "2121    Хан-Уул         Лизинггүй  1 тагттай    101.00000    Бүргэд   \n",
       "...         ...               ...        ...          ...       ...   \n",
       "550     Хан-Уул  Банкны лизингтэй  1 тагттай    108.00000    Бүргэд   \n",
       "2998    Хан-Уул         Лизинггүй  1 тагттай    137.00000    Бүргэд   \n",
       "1862   Баянзүрх         Лизинггүй  1 тагттай     26.16000    Бүргэд   \n",
       "3456    Баянгол         Лизинггүй  1 тагттай     56.60000    Бүргэд   \n",
       "3273  Чингэлтэй         Лизинггүй    Тагтгүй    100.00000     Төмөр   \n",
       "\n",
       "      apartment_floor_num  window_type  num_windows floor_type  \n",
       "id                                                              \n",
       "3901                    3        Вакум            2     Паркет  \n",
       "353                     3        Вакум            2     Паркет  \n",
       "2978                    8        Вакум            2     Паркет  \n",
       "1197                    5        Вакум            1     Паркет  \n",
       "2121                    8        Вакум            3     Паркет  \n",
       "...                   ...          ...          ...        ...  \n",
       "550                     1        Вакум            4     Паркет  \n",
       "2998                    6        Вакум            6     Паркет  \n",
       "1862                    8        Вакум            1     Паркет  \n",
       "3456                    4        Вакум            4     Паркет  \n",
       "3273                    6  Модон вакум            5     Паркет  \n",
       "\n",
       "[966 rows x 14 columns]"
      ]
     },
     "execution_count": 8,
     "metadata": {},
     "output_type": "execute_result"
    }
   ],
   "source": [
    "test"
   ]
  },
  {
   "cell_type": "code",
   "execution_count": 9,
   "metadata": {},
   "outputs": [
    {
     "data": {
      "text/plain": [
       "rooms                  0\n",
       "year_built             0\n",
       "location               0\n",
       "building_floor_num     0\n",
       "garage                 0\n",
       "district               0\n",
       "leasing                0\n",
       "balcony                0\n",
       "size_meters            0\n",
       "door_type              0\n",
       "apartment_floor_num    0\n",
       "window_type            0\n",
       "num_windows            0\n",
       "floor_type             0\n",
       "dtype: int64"
      ]
     },
     "execution_count": 9,
     "metadata": {},
     "output_type": "execute_result"
    }
   ],
   "source": [
    "X.isnull().sum()"
   ]
  },
  {
   "cell_type": "markdown",
   "metadata": {},
   "source": [
    "## EDA"
   ]
  },
  {
   "cell_type": "code",
   "execution_count": 10,
   "metadata": {},
   "outputs": [
    {
     "data": {
      "text/html": [
       "<div>\n",
       "<style scoped>\n",
       "    .dataframe tbody tr th:only-of-type {\n",
       "        vertical-align: middle;\n",
       "    }\n",
       "\n",
       "    .dataframe tbody tr th {\n",
       "        vertical-align: top;\n",
       "    }\n",
       "\n",
       "    .dataframe thead th {\n",
       "        text-align: right;\n",
       "    }\n",
       "</style>\n",
       "<table border=\"1\" class=\"dataframe\">\n",
       "  <thead>\n",
       "    <tr style=\"text-align: right;\">\n",
       "      <th></th>\n",
       "      <th>rooms</th>\n",
       "      <th>year_built</th>\n",
       "      <th>location</th>\n",
       "      <th>building_floor_num</th>\n",
       "      <th>garage</th>\n",
       "      <th>district</th>\n",
       "      <th>leasing</th>\n",
       "      <th>balcony</th>\n",
       "      <th>size_meters</th>\n",
       "      <th>door_type</th>\n",
       "      <th>apartment_floor_num</th>\n",
       "      <th>window_type</th>\n",
       "      <th>num_windows</th>\n",
       "      <th>floor_type</th>\n",
       "      <th>price</th>\n",
       "    </tr>\n",
       "  </thead>\n",
       "  <tbody>\n",
       "    <tr>\n",
       "      <th>0</th>\n",
       "      <td>5+ өрөө</td>\n",
       "      <td>2010</td>\n",
       "      <td>Зайсан</td>\n",
       "      <td>14</td>\n",
       "      <td>Байгаа</td>\n",
       "      <td>Хан-Уул</td>\n",
       "      <td>Лизинггүй</td>\n",
       "      <td>2 тагттай</td>\n",
       "      <td>105.50000</td>\n",
       "      <td>Төмөр вакум</td>\n",
       "      <td>5</td>\n",
       "      <td>Модон вакум</td>\n",
       "      <td>5</td>\n",
       "      <td>Паркет</td>\n",
       "      <td>2654028.43602</td>\n",
       "    </tr>\n",
       "    <tr>\n",
       "      <th>1</th>\n",
       "      <td>2 өрөө</td>\n",
       "      <td>2019</td>\n",
       "      <td>Нисэх</td>\n",
       "      <td>12</td>\n",
       "      <td>Байгаа</td>\n",
       "      <td>Хан-Уул</td>\n",
       "      <td>Хувь лизингтэй</td>\n",
       "      <td>1 тагттай</td>\n",
       "      <td>61.00000</td>\n",
       "      <td>Төмөр</td>\n",
       "      <td>6</td>\n",
       "      <td>Вакум</td>\n",
       "      <td>3</td>\n",
       "      <td>Паркет</td>\n",
       "      <td>1737704.91803</td>\n",
       "    </tr>\n",
       "    <tr>\n",
       "      <th>2</th>\n",
       "      <td>2 өрөө</td>\n",
       "      <td>2017</td>\n",
       "      <td>Бусад</td>\n",
       "      <td>16</td>\n",
       "      <td>Байгаа</td>\n",
       "      <td>Баянзүрх</td>\n",
       "      <td>Банкны лизингтэй</td>\n",
       "      <td>1 тагттай</td>\n",
       "      <td>42.30000</td>\n",
       "      <td>Вакум</td>\n",
       "      <td>9</td>\n",
       "      <td>Вакум</td>\n",
       "      <td>2</td>\n",
       "      <td>Паркет</td>\n",
       "      <td>1773049.64539</td>\n",
       "    </tr>\n",
       "    <tr>\n",
       "      <th>3</th>\n",
       "      <td>2 өрөө</td>\n",
       "      <td>2009</td>\n",
       "      <td>25-р эмийн сан</td>\n",
       "      <td>6</td>\n",
       "      <td>Байгаа</td>\n",
       "      <td>Баянгол</td>\n",
       "      <td>Лизинггүй</td>\n",
       "      <td>1 тагттай</td>\n",
       "      <td>59.19000</td>\n",
       "      <td>Бүргэд</td>\n",
       "      <td>2</td>\n",
       "      <td>Вакум</td>\n",
       "      <td>4</td>\n",
       "      <td>Паркет</td>\n",
       "      <td>1520527.11607</td>\n",
       "    </tr>\n",
       "    <tr>\n",
       "      <th>4</th>\n",
       "      <td>2 өрөө</td>\n",
       "      <td>1994</td>\n",
       "      <td>21-р хороолол</td>\n",
       "      <td>5</td>\n",
       "      <td>Байхгүй</td>\n",
       "      <td>Сонгино Хайрхан</td>\n",
       "      <td>Лизинггүй</td>\n",
       "      <td>1 тагттай</td>\n",
       "      <td>56.00000</td>\n",
       "      <td>Бүргэд</td>\n",
       "      <td>1</td>\n",
       "      <td>Вакум</td>\n",
       "      <td>3</td>\n",
       "      <td>Цемент</td>\n",
       "      <td>1107142.85714</td>\n",
       "    </tr>\n",
       "    <tr>\n",
       "      <th>...</th>\n",
       "      <td>...</td>\n",
       "      <td>...</td>\n",
       "      <td>...</td>\n",
       "      <td>...</td>\n",
       "      <td>...</td>\n",
       "      <td>...</td>\n",
       "      <td>...</td>\n",
       "      <td>...</td>\n",
       "      <td>...</td>\n",
       "      <td>...</td>\n",
       "      <td>...</td>\n",
       "      <td>...</td>\n",
       "      <td>...</td>\n",
       "      <td>...</td>\n",
       "      <td>...</td>\n",
       "    </tr>\n",
       "    <tr>\n",
       "      <th>3857</th>\n",
       "      <td>2 өрөө</td>\n",
       "      <td>2020</td>\n",
       "      <td>Яармаг</td>\n",
       "      <td>12</td>\n",
       "      <td>Байгаа</td>\n",
       "      <td>Хан-Уул</td>\n",
       "      <td>Лизинггүй</td>\n",
       "      <td>1 тагттай</td>\n",
       "      <td>54.00000</td>\n",
       "      <td>Төмөр</td>\n",
       "      <td>5</td>\n",
       "      <td>Вакум</td>\n",
       "      <td>4</td>\n",
       "      <td>Паркет</td>\n",
       "      <td>1851851.85185</td>\n",
       "    </tr>\n",
       "    <tr>\n",
       "      <th>3858</th>\n",
       "      <td>2 өрөө</td>\n",
       "      <td>2014</td>\n",
       "      <td>Баянбүрд</td>\n",
       "      <td>12</td>\n",
       "      <td>Байгаа</td>\n",
       "      <td>Чингэлтэй</td>\n",
       "      <td>Банкны лизингтэй</td>\n",
       "      <td>1 тагттай</td>\n",
       "      <td>63.00000</td>\n",
       "      <td>Бүргэд</td>\n",
       "      <td>4</td>\n",
       "      <td>Вакум</td>\n",
       "      <td>5</td>\n",
       "      <td>Паркет</td>\n",
       "      <td>2063492.06349</td>\n",
       "    </tr>\n",
       "    <tr>\n",
       "      <th>3859</th>\n",
       "      <td>1 өрөө</td>\n",
       "      <td>2014</td>\n",
       "      <td>100 айл</td>\n",
       "      <td>12</td>\n",
       "      <td>Байхгүй</td>\n",
       "      <td>Сүхбаатар</td>\n",
       "      <td>Банкны лизингтэй</td>\n",
       "      <td>1 тагттай</td>\n",
       "      <td>38.00000</td>\n",
       "      <td>Бүргэд</td>\n",
       "      <td>8</td>\n",
       "      <td>Вакум</td>\n",
       "      <td>2</td>\n",
       "      <td>Паркет</td>\n",
       "      <td>1631578.94737</td>\n",
       "    </tr>\n",
       "    <tr>\n",
       "      <th>3860</th>\n",
       "      <td>2 өрөө</td>\n",
       "      <td>2019</td>\n",
       "      <td>Бусад</td>\n",
       "      <td>12</td>\n",
       "      <td>Байхгүй</td>\n",
       "      <td>Хан-Уул</td>\n",
       "      <td>Лизинггүй</td>\n",
       "      <td>1 тагттай</td>\n",
       "      <td>46.50000</td>\n",
       "      <td>Бүргэд</td>\n",
       "      <td>4</td>\n",
       "      <td>Вакум</td>\n",
       "      <td>2</td>\n",
       "      <td>Паркет</td>\n",
       "      <td>1763440.86022</td>\n",
       "    </tr>\n",
       "    <tr>\n",
       "      <th>3861</th>\n",
       "      <td>2 өрөө</td>\n",
       "      <td>2015</td>\n",
       "      <td>100 айл</td>\n",
       "      <td>12</td>\n",
       "      <td>Байхгүй</td>\n",
       "      <td>Баянзүрх</td>\n",
       "      <td>Лизинггүй</td>\n",
       "      <td>1 тагттай</td>\n",
       "      <td>45.00000</td>\n",
       "      <td>Бүргэд</td>\n",
       "      <td>5</td>\n",
       "      <td>Вакум</td>\n",
       "      <td>3</td>\n",
       "      <td>Паркет</td>\n",
       "      <td>1600000.00000</td>\n",
       "    </tr>\n",
       "  </tbody>\n",
       "</table>\n",
       "<p>3862 rows × 15 columns</p>\n",
       "</div>"
      ],
      "text/plain": [
       "        rooms  year_built        location  building_floor_num   garage  \\\n",
       "0     5+ өрөө        2010          Зайсан                  14   Байгаа   \n",
       "1      2 өрөө        2019           Нисэх                  12   Байгаа   \n",
       "2      2 өрөө        2017           Бусад                  16   Байгаа   \n",
       "3      2 өрөө        2009  25-р эмийн сан                   6   Байгаа   \n",
       "4      2 өрөө        1994   21-р хороолол                   5  Байхгүй   \n",
       "...       ...         ...             ...                 ...      ...   \n",
       "3857   2 өрөө        2020          Яармаг                  12   Байгаа   \n",
       "3858   2 өрөө        2014        Баянбүрд                  12   Байгаа   \n",
       "3859   1 өрөө        2014         100 айл                  12  Байхгүй   \n",
       "3860   2 өрөө        2019           Бусад                  12  Байхгүй   \n",
       "3861   2 өрөө        2015         100 айл                  12  Байхгүй   \n",
       "\n",
       "             district           leasing    balcony  size_meters    door_type  \\\n",
       "0             Хан-Уул         Лизинггүй  2 тагттай    105.50000  Төмөр вакум   \n",
       "1             Хан-Уул    Хувь лизингтэй  1 тагттай     61.00000        Төмөр   \n",
       "2            Баянзүрх  Банкны лизингтэй  1 тагттай     42.30000        Вакум   \n",
       "3             Баянгол         Лизинггүй  1 тагттай     59.19000       Бүргэд   \n",
       "4     Сонгино Хайрхан         Лизинггүй  1 тагттай     56.00000       Бүргэд   \n",
       "...               ...               ...        ...          ...          ...   \n",
       "3857          Хан-Уул         Лизинггүй  1 тагттай     54.00000        Төмөр   \n",
       "3858        Чингэлтэй  Банкны лизингтэй  1 тагттай     63.00000       Бүргэд   \n",
       "3859        Сүхбаатар  Банкны лизингтэй  1 тагттай     38.00000       Бүргэд   \n",
       "3860          Хан-Уул         Лизинггүй  1 тагттай     46.50000       Бүргэд   \n",
       "3861         Баянзүрх         Лизинггүй  1 тагттай     45.00000       Бүргэд   \n",
       "\n",
       "      apartment_floor_num  window_type  num_windows floor_type         price  \n",
       "0                       5  Модон вакум            5     Паркет 2654028.43602  \n",
       "1                       6        Вакум            3     Паркет 1737704.91803  \n",
       "2                       9        Вакум            2     Паркет 1773049.64539  \n",
       "3                       2        Вакум            4     Паркет 1520527.11607  \n",
       "4                       1        Вакум            3     Цемент 1107142.85714  \n",
       "...                   ...          ...          ...        ...           ...  \n",
       "3857                    5        Вакум            4     Паркет 1851851.85185  \n",
       "3858                    4        Вакум            5     Паркет 2063492.06349  \n",
       "3859                    8        Вакум            2     Паркет 1631578.94737  \n",
       "3860                    4        Вакум            2     Паркет 1763440.86022  \n",
       "3861                    5        Вакум            3     Паркет 1600000.00000  \n",
       "\n",
       "[3862 rows x 15 columns]"
      ]
     },
     "execution_count": 10,
     "metadata": {},
     "output_type": "execute_result"
    }
   ],
   "source": [
    "df = pd.concat([X, y], axis=1)\n",
    "df"
   ]
  },
  {
   "cell_type": "code",
   "execution_count": 11,
   "metadata": {},
   "outputs": [
    {
     "data": {
      "text/plain": [
       "rooms                   object\n",
       "year_built               int64\n",
       "location                object\n",
       "building_floor_num       int64\n",
       "garage                  object\n",
       "district                object\n",
       "leasing                 object\n",
       "balcony                 object\n",
       "size_meters            float64\n",
       "door_type               object\n",
       "apartment_floor_num      int64\n",
       "window_type             object\n",
       "num_windows              int64\n",
       "floor_type              object\n",
       "price                  float64\n",
       "dtype: object"
      ]
     },
     "execution_count": 11,
     "metadata": {},
     "output_type": "execute_result"
    }
   ],
   "source": [
    "df.dtypes"
   ]
  },
  {
   "cell_type": "markdown",
   "metadata": {},
   "source": [
    "### Rooms"
   ]
  },
  {
   "cell_type": "code",
   "execution_count": 12,
   "metadata": {},
   "outputs": [
    {
     "data": {
      "text/plain": [
       "array(['5+ өрөө', '2 өрөө', '1 өрөө', '4 өрөө', '3 өрөө'], dtype=object)"
      ]
     },
     "execution_count": 12,
     "metadata": {},
     "output_type": "execute_result"
    }
   ],
   "source": [
    "df['rooms'].unique()"
   ]
  },
  {
   "cell_type": "code",
   "execution_count": 13,
   "metadata": {},
   "outputs": [],
   "source": [
    "room_price = df.groupby('rooms').mean()['price']"
   ]
  },
  {
   "cell_type": "code",
   "execution_count": 14,
   "metadata": {},
   "outputs": [
    {
     "data": {
      "text/plain": [
       "rooms\n",
       "1 өрөө    1815089.24843\n",
       "2 өрөө    1864288.03249\n",
       "3 өрөө    2096827.96152\n",
       "4 өрөө    2571603.26962\n",
       "5+ өрөө   2561419.42799\n",
       "Name: price, dtype: float64"
      ]
     },
     "execution_count": 14,
     "metadata": {},
     "output_type": "execute_result"
    }
   ],
   "source": [
    "room_price"
   ]
  },
  {
   "cell_type": "code",
   "execution_count": 15,
   "metadata": {},
   "outputs": [
    {
     "data": {
      "text/plain": [
       "Index(['1 өрөө', '2 өрөө', '3 өрөө', '4 өрөө', '5+ өрөө'], dtype='object', name='rooms')"
      ]
     },
     "execution_count": 15,
     "metadata": {},
     "output_type": "execute_result"
    }
   ],
   "source": [
    "room_price.index"
   ]
  },
  {
   "cell_type": "code",
   "execution_count": 16,
   "metadata": {},
   "outputs": [
    {
     "data": {
      "text/plain": [
       "Text(0, 0.5, 'Average Price')"
      ]
     },
     "execution_count": 16,
     "metadata": {},
     "output_type": "execute_result"
    },
    {
     "data": {
      "image/png": "[encoded data removed]",
      "text/plain": [
       "<Figure size 864x576 with 1 Axes>"
      ]
     },
     "metadata": {},
     "output_type": "display_data"
    }
   ],
   "source": [
    "plt.bar(room_price.index, room_price)\n",
    "plt.title('Average price (Different room options)')\n",
    "plt.xlabel('Room options')\n",
    "plt.ylabel('Average Price')"
   ]
  },
  {
   "cell_type": "markdown",
   "metadata": {},
   "source": [
    "### Year built"
   ]
  },
  {
   "cell_type": "code",
   "execution_count": 17,
   "metadata": {},
   "outputs": [
    {
     "data": {
      "text/plain": [
       "<matplotlib.collections.PathCollection at 0x276db7d99a0>"
      ]
     },
     "execution_count": 17,
     "metadata": {},
     "output_type": "execute_result"
    },
    {
     "data": {
      "image/png": "[encoded data removed]",
      "text/plain": [
       "<Figure size 864x576 with 1 Axes>"
      ]
     },
     "metadata": {},
     "output_type": "display_data"
    }
   ],
   "source": [
    "plt.scatter(df['year_built'], df['price'])"
   ]
  },
  {
   "cell_type": "code",
   "execution_count": 18,
   "metadata": {},
   "outputs": [
    {
     "data": {
      "text/plain": [
       "Text(0.5, 1.0, 'Price based on year built)')"
      ]
     },
     "execution_count": 18,
     "metadata": {},
     "output_type": "execute_result"
    },
    {
     "data": {
      "image/png": "[encoded data removed]",
      "text/plain": [
       "<Figure size 864x576 with 1 Axes>"
      ]
     },
     "metadata": {},
     "output_type": "display_data"
    }
   ],
   "source": [
    "sns.boxplot(x=\"year_built\", y=\"price\", data=df)\n",
    "plt.title('Price based on year built)')"
   ]
  },
  {
   "cell_type": "markdown",
   "metadata": {},
   "source": [
    "Overall, the highest average price belongs to 1981s. But as recent the appartment built, it's likely to have higher price. Especially last 12 years have so many higher price exceptions than their averages."
   ]
  },
  {
   "cell_type": "code",
   "execution_count": 19,
   "metadata": {},
   "outputs": [],
   "source": [
    "year_price = df.groupby('year_built').mean()['price'].sort_values(0, False)"
   ]
  },
  {
   "cell_type": "code",
   "execution_count": 20,
   "metadata": {},
   "outputs": [
    {
     "data": {
      "text/plain": [
       "year_built\n",
       "1981   2765376.98413\n",
       "1982   2382694.33768\n",
       "1986   2315216.75323\n",
       "1980   2254780.86782\n",
       "1992   2238626.77980\n",
       "2018   2229294.48002\n",
       "2019   2225529.58027\n",
       "1995   2148857.80802\n",
       "1985   2125321.84927\n",
       "2017   2116213.92966\n",
       "1984   2096704.82295\n",
       "2016   2082626.05614\n",
       "2020   2067929.68554\n",
       "2014   2067079.64383\n",
       "1983   2027446.71028\n",
       "2015   1976976.62013\n",
       "1990   1976395.13130\n",
       "1999   1947137.76091\n",
       "1991   1889850.83905\n",
       "2013   1888582.17634\n",
       "1988   1874241.58061\n",
       "1997   1860859.28341\n",
       "1998   1847088.27358\n",
       "2008   1825923.47070\n",
       "2012   1825614.88747\n",
       "1989   1825334.99253\n",
       "2006   1822101.21562\n",
       "2009   1819075.22980\n",
       "2001   1814874.63686\n",
       "2004   1803549.69547\n",
       "2011   1800101.08943\n",
       "2005   1787004.86840\n",
       "2010   1781877.01006\n",
       "2002   1763997.97326\n",
       "2007   1755824.98939\n",
       "1993   1683725.91014\n",
       "1994   1680305.13150\n",
       "2000   1679722.80804\n",
       "2003   1678841.91766\n",
       "1996   1663054.16606\n",
       "1987   1648874.21338\n",
       "Name: price, dtype: float64"
      ]
     },
     "execution_count": 20,
     "metadata": {},
     "output_type": "execute_result"
    }
   ],
   "source": [
    "year_price"
   ]
  },
  {
   "cell_type": "markdown",
   "metadata": {},
   "source": [
    "### Building_floor_num"
   ]
  },
  {
   "cell_type": "code",
   "execution_count": 21,
   "metadata": {},
   "outputs": [
    {
     "data": {
      "text/plain": [
       "<matplotlib.collections.PathCollection at 0x276dc2141f0>"
      ]
     },
     "execution_count": 21,
     "metadata": {},
     "output_type": "execute_result"
    },
    {
     "data": {
      "image/png": "[encoded data removed]",
      "text/plain": [
       "<Figure size 864x576 with 1 Axes>"
      ]
     },
     "metadata": {},
     "output_type": "display_data"
    }
   ],
   "source": [
    "plt.scatter(df['building_floor_num'], df['price'])"
   ]
  },
  {
   "cell_type": "markdown",
   "metadata": {},
   "source": [
    "### Garage                  "
   ]
  },
  {
   "cell_type": "code",
   "execution_count": 22,
   "metadata": {},
   "outputs": [
    {
     "data": {
      "text/plain": [
       "array(['Байгаа', 'Байхгүй'], dtype=object)"
      ]
     },
     "execution_count": 22,
     "metadata": {},
     "output_type": "execute_result"
    }
   ],
   "source": [
    "df['garage'].unique()"
   ]
  },
  {
   "cell_type": "code",
   "execution_count": 23,
   "metadata": {},
   "outputs": [],
   "source": [
    "garage_price = df.groupby('garage').mean()['price'].sort_values(0, False)"
   ]
  },
  {
   "cell_type": "code",
   "execution_count": 24,
   "metadata": {},
   "outputs": [
    {
     "data": {
      "text/plain": [
       "garage\n",
       "Байгаа    2287284.78344\n",
       "Байхгүй   1942718.58707\n",
       "Name: price, dtype: float64"
      ]
     },
     "execution_count": 24,
     "metadata": {},
     "output_type": "execute_result"
    }
   ],
   "source": [
    "garage_price"
   ]
  },
  {
   "cell_type": "markdown",
   "metadata": {},
   "source": [
    "### District  "
   ]
  },
  {
   "cell_type": "code",
   "execution_count": 25,
   "metadata": {},
   "outputs": [],
   "source": [
    "district_price = df.groupby('district').mean()['price'].sort_values(0, False)"
   ]
  },
  {
   "cell_type": "code",
   "execution_count": 26,
   "metadata": {},
   "outputs": [
    {
     "data": {
      "text/plain": [
       "district\n",
       "Сүхбаатар         2459041.64659\n",
       "Хан-Уул           2274664.26889\n",
       "Чингэлтэй         2154775.85353\n",
       "Баянзүрх          1875958.09980\n",
       "Баянгол           1838376.76187\n",
       "Сонгино Хайрхан   1543774.96137\n",
       "Name: price, dtype: float64"
      ]
     },
     "execution_count": 26,
     "metadata": {},
     "output_type": "execute_result"
    }
   ],
   "source": [
    "district_price"
   ]
  },
  {
   "cell_type": "code",
   "execution_count": 27,
   "metadata": {},
   "outputs": [
    {
     "data": {
      "text/plain": [
       "Index(['Сонгино Хайрхан', 'Баянгол', 'Баянзүрх', 'Чингэлтэй', 'Хан-Уул',\n",
       "       'Сүхбаатар'],\n",
       "      dtype='object', name='district')"
      ]
     },
     "execution_count": 27,
     "metadata": {},
     "output_type": "execute_result"
    }
   ],
   "source": [
    " df.groupby('district').mean()['price'].sort_values().index"
   ]
  },
  {
   "cell_type": "markdown",
   "metadata": {},
   "source": [
    "### Leasing"
   ]
  },
  {
   "cell_type": "code",
   "execution_count": 28,
   "metadata": {},
   "outputs": [],
   "source": [
    "leasing_price = df.groupby('leasing').mean()['price'].sort_values(0, False)"
   ]
  },
  {
   "cell_type": "code",
   "execution_count": 29,
   "metadata": {},
   "outputs": [
    {
     "data": {
      "text/plain": [
       "leasing\n",
       "Хувь лизингтэй     2062355.80163\n",
       "Банкны лизингтэй   2014029.87977\n",
       "Лизинггүй          2005743.27897\n",
       "Name: price, dtype: float64"
      ]
     },
     "execution_count": 29,
     "metadata": {},
     "output_type": "execute_result"
    }
   ],
   "source": [
    "leasing_price"
   ]
  },
  {
   "cell_type": "code",
   "execution_count": 30,
   "metadata": {},
   "outputs": [
    {
     "data": {
      "text/plain": [
       "Index(['Лизинггүй', 'Банкны лизингтэй', 'Хувь лизингтэй'], dtype='object', name='leasing')"
      ]
     },
     "execution_count": 30,
     "metadata": {},
     "output_type": "execute_result"
    }
   ],
   "source": [
    "df.groupby('leasing').mean()['price'].sort_values().index"
   ]
  },
  {
   "cell_type": "markdown",
   "metadata": {},
   "source": [
    "### Balcony                 "
   ]
  },
  {
   "cell_type": "code",
   "execution_count": 31,
   "metadata": {},
   "outputs": [],
   "source": [
    "balcony_price = df.groupby('balcony').mean()['price'].sort_values(0, False)"
   ]
  },
  {
   "cell_type": "code",
   "execution_count": 32,
   "metadata": {},
   "outputs": [
    {
     "data": {
      "text/plain": [
       "balcony\n",
       "3+ тагттай   2270919.72275\n",
       "2 тагттай    2149871.59983\n",
       "1 тагттай    1987156.07272\n",
       "Тагтгүй      1982533.69070\n",
       "Name: price, dtype: float64"
      ]
     },
     "execution_count": 32,
     "metadata": {},
     "output_type": "execute_result"
    }
   ],
   "source": [
    "balcony_price"
   ]
  },
  {
   "cell_type": "markdown",
   "metadata": {},
   "source": [
    "### size_meters            "
   ]
  },
  {
   "cell_type": "code",
   "execution_count": 33,
   "metadata": {},
   "outputs": [
    {
     "data": {
      "text/plain": [
       "Text(0, 0.5, 'Price')"
      ]
     },
     "execution_count": 33,
     "metadata": {},
     "output_type": "execute_result"
    },
    {
     "data": {
      "image/png": "[encoded data removed]",
      "text/plain": [
       "<Figure size 864x576 with 1 Axes>"
      ]
     },
     "metadata": {},
     "output_type": "display_data"
    }
   ],
   "source": [
    "plt.scatter(df['size_meters'], df['price'])\n",
    "plt.title('Price and size correlation')\n",
    "plt.xlabel('Square meter')\n",
    "plt.ylabel('Price')"
   ]
  },
  {
   "cell_type": "markdown",
   "metadata": {},
   "source": [
    "From what I see from the scatter plot, the most of the square meter is between 25 and 150, and price is between 1 to 4 million. Other than that there is no really huge correlation between meter square and price. "
   ]
  },
  {
   "cell_type": "markdown",
   "metadata": {},
   "source": [
    "### door_type"
   ]
  },
  {
   "cell_type": "code",
   "execution_count": 34,
   "metadata": {},
   "outputs": [
    {
     "data": {
      "text/plain": [
       "array(['Төмөр вакум', 'Төмөр', 'Вакум', 'Бүргэд', 'Мод'], dtype=object)"
      ]
     },
     "execution_count": 34,
     "metadata": {},
     "output_type": "execute_result"
    }
   ],
   "source": [
    "df['door_type'].unique()"
   ]
  },
  {
   "cell_type": "code",
   "execution_count": 35,
   "metadata": {},
   "outputs": [
    {
     "data": {
      "text/plain": [
       "door_type\n",
       "Төмөр вакум   2485355.03400\n",
       "Мод           2255128.75746\n",
       "Төмөр         2181525.85138\n",
       "Бүргэд        1960224.98876\n",
       "Вакум         1905025.58011\n",
       "Name: price, dtype: float64"
      ]
     },
     "execution_count": 35,
     "metadata": {},
     "output_type": "execute_result"
    }
   ],
   "source": [
    "df.groupby('door_type').mean()['price'].sort_values(0, False)"
   ]
  },
  {
   "cell_type": "code",
   "execution_count": 36,
   "metadata": {},
   "outputs": [
    {
     "data": {
      "text/plain": [
       "Index(['Вакум', 'Бүргэд', 'Төмөр', 'Мод', 'Төмөр вакум'], dtype='object', name='door_type')"
      ]
     },
     "execution_count": 36,
     "metadata": {},
     "output_type": "execute_result"
    }
   ],
   "source": [
    "df.groupby('door_type').mean()['price'].sort_values().index"
   ]
  },
  {
   "cell_type": "markdown",
   "metadata": {},
   "source": [
    "### apartment_floor_num"
   ]
  },
  {
   "cell_type": "code",
   "execution_count": 37,
   "metadata": {},
   "outputs": [
    {
     "data": {
      "text/plain": [
       "Index(['rooms', 'year_built', 'location', 'building_floor_num', 'garage',\n",
       "       'district', 'leasing', 'balcony', 'size_meters', 'door_type',\n",
       "       'apartment_floor_num', 'window_type', 'num_windows', 'floor_type',\n",
       "       'price'],\n",
       "      dtype='object')"
      ]
     },
     "execution_count": 37,
     "metadata": {},
     "output_type": "execute_result"
    }
   ],
   "source": [
    "df.columns"
   ]
  },
  {
   "cell_type": "code",
   "execution_count": 38,
   "metadata": {},
   "outputs": [
    {
     "data": {
      "text/plain": [
       "Text(0, 0.5, 'Price')"
      ]
     },
     "execution_count": 38,
     "metadata": {},
     "output_type": "execute_result"
    },
    {
     "data": {
      "image/png": "[encoded data removed]",
      "text/plain": [
       "<Figure size 864x576 with 1 Axes>"
      ]
     },
     "metadata": {},
     "output_type": "display_data"
    }
   ],
   "source": [
    "plt.scatter(df['apartment_floor_num'], df['price'])\n",
    "plt.title('Price and floor num correlation')\n",
    "plt.xlabel('apartment_floor_num')\n",
    "plt.ylabel('Price')"
   ]
  },
  {
   "cell_type": "markdown",
   "metadata": {},
   "source": [
    "Which floor the apartment located doesn't effect the overall price"
   ]
  },
  {
   "cell_type": "markdown",
   "metadata": {},
   "source": [
    "### window_type"
   ]
  },
  {
   "cell_type": "code",
   "execution_count": 39,
   "metadata": {},
   "outputs": [
    {
     "data": {
      "text/plain": [
       "window_type\n",
       "Төмөр вакум   2789426.25214\n",
       "Модон вакум   2557990.30483\n",
       "Вакум         1992792.34714\n",
       "Мод           1851839.57098\n",
       "Name: price, dtype: float64"
      ]
     },
     "execution_count": 39,
     "metadata": {},
     "output_type": "execute_result"
    }
   ],
   "source": [
    "df.groupby('window_type').mean()['price'].sort_values(0, False)"
   ]
  },
  {
   "cell_type": "code",
   "execution_count": 40,
   "metadata": {},
   "outputs": [
    {
     "data": {
      "text/plain": [
       "Index(['Мод', 'Вакум', 'Модон вакум', 'Төмөр вакум'], dtype='object', name='window_type')"
      ]
     },
     "execution_count": 40,
     "metadata": {},
     "output_type": "execute_result"
    }
   ],
   "source": [
    "df.groupby('window_type').mean()['price'].sort_values().index"
   ]
  },
  {
   "cell_type": "markdown",
   "metadata": {},
   "source": [
    "### num_windows"
   ]
  },
  {
   "cell_type": "code",
   "execution_count": 41,
   "metadata": {},
   "outputs": [
    {
     "data": {
      "text/plain": [
       "num_windows\n",
       "8   2577936.64079\n",
       "7   2555675.84829\n",
       "6   2477880.45442\n",
       "5   2350314.63305\n",
       "4   2057301.15893\n",
       "3   1959598.74398\n",
       "2   1868815.98064\n",
       "1   1722469.22954\n",
       "Name: price, dtype: float64"
      ]
     },
     "execution_count": 41,
     "metadata": {},
     "output_type": "execute_result"
    }
   ],
   "source": [
    "df.groupby('num_windows').mean()['price'].sort_values(0, False)"
   ]
  },
  {
   "cell_type": "markdown",
   "metadata": {},
   "source": [
    "As number of windows goes up, the price goes goes up"
   ]
  },
  {
   "cell_type": "markdown",
   "metadata": {},
   "source": [
    "### floor_type"
   ]
  },
  {
   "cell_type": "code",
   "execution_count": 42,
   "metadata": {},
   "outputs": [
    {
     "data": {
      "text/plain": [
       "floor_type\n",
       "Ламинат   2364018.53108\n",
       "Чулуу     2192557.73777\n",
       "Мод       2120135.34937\n",
       "Паркет    2004859.23616\n",
       "Цемент    1985564.57570\n",
       "Плита     1790862.67894\n",
       "Name: price, dtype: float64"
      ]
     },
     "execution_count": 42,
     "metadata": {},
     "output_type": "execute_result"
    }
   ],
   "source": [
    "df.groupby('floor_type').mean()['price'].sort_values(0, False)"
   ]
  },
  {
   "cell_type": "code",
   "execution_count": 43,
   "metadata": {},
   "outputs": [
    {
     "data": {
      "text/plain": [
       "Index(['Плита', 'Цемент', 'Паркет', 'Мод', 'Чулуу', 'Ламинат'], dtype='object', name='floor_type')"
      ]
     },
     "execution_count": 43,
     "metadata": {},
     "output_type": "execute_result"
    }
   ],
   "source": [
    "df.groupby('floor_type').mean()['price'].sort_values().index"
   ]
  },
  {
   "cell_type": "code",
   "execution_count": 44,
   "metadata": {},
   "outputs": [
    {
     "data": {
      "text/plain": [
       "Index(['rooms', 'year_built', 'location', 'building_floor_num', 'garage',\n",
       "       'district', 'leasing', 'balcony', 'size_meters', 'door_type',\n",
       "       'apartment_floor_num', 'window_type', 'num_windows', 'floor_type',\n",
       "       'price'],\n",
       "      dtype='object')"
      ]
     },
     "execution_count": 44,
     "metadata": {},
     "output_type": "execute_result"
    }
   ],
   "source": [
    "df.columns"
   ]
  },
  {
   "cell_type": "markdown",
   "metadata": {},
   "source": [
    "### location"
   ]
  },
  {
   "cell_type": "code",
   "execution_count": 45,
   "metadata": {},
   "outputs": [
    {
     "data": {
      "text/plain": [
       "district         location    \n",
       "Хан-Уул          Bella Vista    5552357.02293\n",
       "                 5-р хороолол   5250000.00000\n",
       "Сүхбаатар        1-р хороолол   4285714.28571\n",
       "Хан-Уул          River Garden   4208238.63177\n",
       "Сүхбаатар        120 мянгат     4168282.27995\n",
       "                                     ...     \n",
       "Баянзүрх         Шар хад        1319711.53846\n",
       "Сонгино Хайрхан  5-р хороолол   1315789.47368\n",
       "Чингэлтэй        Дамбадаржаа    1296296.29630\n",
       "Баянгол          5 шар          1254545.45455\n",
       "Сонгино Хайрхан  Баянхошуу      1119571.28429\n",
       "Name: price, Length: 143, dtype: float64"
      ]
     },
     "execution_count": 45,
     "metadata": {},
     "output_type": "execute_result"
    }
   ],
   "source": [
    "df.groupby(['district', 'location']).mean()['price'].sort_values(0, False)"
   ]
  },
  {
   "cell_type": "code",
   "execution_count": 46,
   "metadata": {},
   "outputs": [
    {
     "data": {
      "text/plain": [
       "array(['Хан-Уул', 'Баянзүрх', 'Баянгол', 'Сонгино Хайрхан', 'Сүхбаатар',\n",
       "       'Чингэлтэй'], dtype=object)"
      ]
     },
     "execution_count": 46,
     "metadata": {},
     "output_type": "execute_result"
    }
   ],
   "source": [
    "df['district'].unique()"
   ]
  },
  {
   "cell_type": "code",
   "execution_count": 47,
   "metadata": {},
   "outputs": [
    {
     "data": {
      "text/plain": [
       "24"
      ]
     },
     "execution_count": 47,
     "metadata": {},
     "output_type": "execute_result"
    }
   ],
   "source": [
    "len(df[df['district'] == 'Баянгол']['location'].unique())"
   ]
  },
  {
   "cell_type": "code",
   "execution_count": 48,
   "metadata": {},
   "outputs": [
    {
     "data": {
      "text/plain": [
       "40"
      ]
     },
     "execution_count": 48,
     "metadata": {},
     "output_type": "execute_result"
    }
   ],
   "source": [
    "len(df[df['district'] == 'Хан-Уул']['location'].unique())"
   ]
  },
  {
   "cell_type": "code",
   "execution_count": 49,
   "metadata": {},
   "outputs": [
    {
     "data": {
      "text/plain": [
       "31"
      ]
     },
     "execution_count": 49,
     "metadata": {},
     "output_type": "execute_result"
    }
   ],
   "source": [
    "len(df[df['district'] == 'Баянзүрх']['location'].unique())"
   ]
  },
  {
   "cell_type": "code",
   "execution_count": 50,
   "metadata": {},
   "outputs": [
    {
     "data": {
      "text/plain": [
       "15"
      ]
     },
     "execution_count": 50,
     "metadata": {},
     "output_type": "execute_result"
    }
   ],
   "source": [
    "len(df[df['district'] == 'Сонгино Хайрхан']['location'].unique())"
   ]
  },
  {
   "cell_type": "code",
   "execution_count": 51,
   "metadata": {},
   "outputs": [
    {
     "data": {
      "text/plain": [
       "21"
      ]
     },
     "execution_count": 51,
     "metadata": {},
     "output_type": "execute_result"
    }
   ],
   "source": [
    "len(df[df['district'] == 'Сүхбаатар']['location'].unique())"
   ]
  },
  {
   "cell_type": "code",
   "execution_count": 52,
   "metadata": {},
   "outputs": [
    {
     "data": {
      "text/plain": [
       "12"
      ]
     },
     "execution_count": 52,
     "metadata": {},
     "output_type": "execute_result"
    }
   ],
   "source": [
    "len(df[df['district'] == 'Чингэлтэй']['location'].unique())"
   ]
  },
  {
   "cell_type": "code",
   "execution_count": 53,
   "metadata": {},
   "outputs": [
    {
     "data": {
      "text/plain": [
       "78"
      ]
     },
     "execution_count": 53,
     "metadata": {},
     "output_type": "execute_result"
    }
   ],
   "source": [
    "len(df['location'].unique())"
   ]
  },
  {
   "cell_type": "code",
   "execution_count": 54,
   "metadata": {},
   "outputs": [
    {
     "data": {
      "text/plain": [
       "143"
      ]
     },
     "execution_count": 54,
     "metadata": {},
     "output_type": "execute_result"
    }
   ],
   "source": [
    "24+40+31+15+21+12"
   ]
  },
  {
   "cell_type": "markdown",
   "metadata": {},
   "source": [
    "<br>In this dataset there 6 differen districts and 78 different locaions. Some locations are duplicated in different districts at the same time. We can't really change the location or districs or simply delete them. "
   ]
  },
  {
   "cell_type": "code",
   "execution_count": 55,
   "metadata": {},
   "outputs": [
    {
     "data": {
      "text/plain": [
       "location\n",
       "Bella Vista        5552357.02293\n",
       "River Garden       4208238.63177\n",
       "220 мянгат         3876670.72500\n",
       "Japan town         3713875.26785\n",
       "Romana Residence   3479379.19069\n",
       "                        ...     \n",
       "Эрдэнэ толгой      1403229.00462\n",
       "Дамбадаржаа        1370370.37037\n",
       "Амгалан            1360180.93969\n",
       "Шар хад            1319711.53846\n",
       "Баянхошуу          1119571.28429\n",
       "Name: price, Length: 78, dtype: float64"
      ]
     },
     "execution_count": 55,
     "metadata": {},
     "output_type": "execute_result"
    }
   ],
   "source": [
    "df.groupby('location').mean()['price'].sort_values(0, False)"
   ]
  },
  {
   "cell_type": "code",
   "execution_count": 56,
   "metadata": {},
   "outputs": [
    {
     "data": {
      "text/plain": [
       "Index(['Баянхошуу', 'Шар хад', 'Амгалан', 'Дамбадаржаа', 'Эрдэнэ толгой',\n",
       "       'Чулуун овоо', 'Өлзийт хороолол', '21-р хороолол', '5 шар', 'Орбит',\n",
       "       'Москва хороолол', 'Дэнжийн 1000', 'Ханын материал', 'Офицер',\n",
       "       'Дарь Эх', 'Viva city', '16-р хороолол', 'Өгөөмөр захын зүүн',\n",
       "       '6-р бичил', 'Нисэх', 'Био комбинат', 'Богд-Ар', '1-р хороолол',\n",
       "       '10-р хороолол', 'Цэлмэг хотхон', '25-р эмийн сан', '15-р хороолол',\n",
       "       '14-р хороолол', 'Толгойт', '100 айл', 'Хос-Өргөө', 'Дөлгөөн нуур',\n",
       "       'UB Town', 'Алтай хотхон', 'Гандан', 'Оддын хороолол', 'Сонсголон',\n",
       "       '2 - 7 буудал', 'Сансар', '3, 4 хороолол', 'Чингэлтэй', 'Нархан хотхон',\n",
       "       'Бага тойрог', '13-р хороолол', 'Баянбүрд', '11-р хороолол',\n",
       "       'Төмөр зам', 'Зүүн 4 зам', 'Olympic village', 'River stone',\n",
       "       'Баруун 4 зам', '19-р хороолол', 'Бусад', 'Нарны хороолол',\n",
       "       'Баянмонгол хороолол', 'Тээврийн товчоо', 'Яармаг', 'Хурд',\n",
       "       'Их Монгол хороолол', 'Олимп хотхон', 'Зайсан', 'Хансвилл хотхон',\n",
       "       'Sunrise', 'Нэхмэлийн шар', '120 мянгат', 'Zaisan luxury village',\n",
       "       'King Tower', '5-р хороолол', 'Хүннү', 'Edu apart campus',\n",
       "       'Marshall town', 'Ханбүргэдэй', '40, 50 мянгат', 'Romana Residence',\n",
       "       'Japan town', '220 мянгат', 'River Garden', 'Bella Vista'],\n",
       "      dtype='object', name='location')"
      ]
     },
     "execution_count": 56,
     "metadata": {},
     "output_type": "execute_result"
    }
   ],
   "source": [
    "df.groupby('location').mean()['price'].sort_values().index"
   ]
  },
  {
   "cell_type": "markdown",
   "metadata": {},
   "source": [
    "### Variables and price correlations"
   ]
  },
  {
   "cell_type": "markdown",
   "metadata": {},
   "source": [
    "- Numeric variables - rooms, year_built, building_floor_num, size_meter, apartment_floor_num, num_windows\n",
    "- Categorical variables:\n",
    "1. Weak or no direct correlation with price - "
   ]
  },
  {
   "cell_type": "markdown",
   "metadata": {},
   "source": [
    "# 1st part - First attempt to \"encode\" using .replace()"
   ]
  },
  {
   "cell_type": "markdown",
   "metadata": {},
   "source": [
    "## Preparing data for ML"
   ]
  },
  {
   "cell_type": "code",
   "execution_count": 57,
   "metadata": {},
   "outputs": [
    {
     "data": {
      "text/html": [
       "<div>\n",
       "<style scoped>\n",
       "    .dataframe tbody tr th:only-of-type {\n",
       "        vertical-align: middle;\n",
       "    }\n",
       "\n",
       "    .dataframe tbody tr th {\n",
       "        vertical-align: top;\n",
       "    }\n",
       "\n",
       "    .dataframe thead th {\n",
       "        text-align: right;\n",
       "    }\n",
       "</style>\n",
       "<table border=\"1\" class=\"dataframe\">\n",
       "  <thead>\n",
       "    <tr style=\"text-align: right;\">\n",
       "      <th></th>\n",
       "      <th>price</th>\n",
       "    </tr>\n",
       "  </thead>\n",
       "  <tbody>\n",
       "    <tr>\n",
       "      <th>count</th>\n",
       "      <td>3862.00000</td>\n",
       "    </tr>\n",
       "    <tr>\n",
       "      <th>mean</th>\n",
       "      <td>2013648.18990</td>\n",
       "    </tr>\n",
       "    <tr>\n",
       "      <th>std</th>\n",
       "      <td>694533.77134</td>\n",
       "    </tr>\n",
       "    <tr>\n",
       "      <th>min</th>\n",
       "      <td>1014285.71429</td>\n",
       "    </tr>\n",
       "    <tr>\n",
       "      <th>25%</th>\n",
       "      <td>1596275.04848</td>\n",
       "    </tr>\n",
       "    <tr>\n",
       "      <th>50%</th>\n",
       "      <td>1823128.27849</td>\n",
       "    </tr>\n",
       "    <tr>\n",
       "      <th>75%</th>\n",
       "      <td>2251940.88245</td>\n",
       "    </tr>\n",
       "    <tr>\n",
       "      <th>max</th>\n",
       "      <td>6818181.81818</td>\n",
       "    </tr>\n",
       "  </tbody>\n",
       "</table>\n",
       "</div>"
      ],
      "text/plain": [
       "              price\n",
       "count    3862.00000\n",
       "mean  2013648.18990\n",
       "std    694533.77134\n",
       "min   1014285.71429\n",
       "25%   1596275.04848\n",
       "50%   1823128.27849\n",
       "75%   2251940.88245\n",
       "max   6818181.81818"
      ]
     },
     "execution_count": 57,
     "metadata": {},
     "output_type": "execute_result"
    }
   ],
   "source": [
    "y.describe()"
   ]
  },
  {
   "cell_type": "code",
   "execution_count": 58,
   "metadata": {},
   "outputs": [
    {
     "data": {
      "text/plain": [
       "rooms                   object\n",
       "year_built               int64\n",
       "location                object\n",
       "building_floor_num       int64\n",
       "garage                  object\n",
       "district                object\n",
       "leasing                 object\n",
       "balcony                 object\n",
       "size_meters            float64\n",
       "door_type               object\n",
       "apartment_floor_num      int64\n",
       "window_type             object\n",
       "num_windows              int64\n",
       "floor_type              object\n",
       "dtype: object"
      ]
     },
     "execution_count": 58,
     "metadata": {},
     "output_type": "execute_result"
    }
   ],
   "source": [
    "X.dtypes"
   ]
  },
  {
   "cell_type": "code",
   "execution_count": 59,
   "metadata": {},
   "outputs": [
    {
     "data": {
      "text/plain": [
       "rooms                   object\n",
       "year_built               int64\n",
       "location                object\n",
       "building_floor_num       int64\n",
       "garage                  object\n",
       "district                object\n",
       "leasing                 object\n",
       "balcony                 object\n",
       "size_meters            float64\n",
       "door_type               object\n",
       "apartment_floor_num      int64\n",
       "window_type             object\n",
       "num_windows              int64\n",
       "floor_type              object\n",
       "dtype: object"
      ]
     },
     "execution_count": 59,
     "metadata": {},
     "output_type": "execute_result"
    }
   ],
   "source": [
    "test.dtypes"
   ]
  },
  {
   "cell_type": "markdown",
   "metadata": {},
   "source": [
    "### Rooms"
   ]
  },
  {
   "cell_type": "code",
   "execution_count": 60,
   "metadata": {},
   "outputs": [
    {
     "data": {
      "text/plain": [
       "array(['5+ өрөө', '2 өрөө', '1 өрөө', '4 өрөө', '3 өрөө'], dtype=object)"
      ]
     },
     "execution_count": 60,
     "metadata": {},
     "output_type": "execute_result"
    }
   ],
   "source": [
    "X['rooms'].unique()"
   ]
  },
  {
   "cell_type": "code",
   "execution_count": 61,
   "metadata": {},
   "outputs": [],
   "source": [
    "X['rooms'] = X['rooms'].str[0]"
   ]
  },
  {
   "cell_type": "code",
   "execution_count": 62,
   "metadata": {},
   "outputs": [],
   "source": [
    "X['rooms'] = X['rooms'].astype('int')"
   ]
  },
  {
   "cell_type": "code",
   "execution_count": 63,
   "metadata": {},
   "outputs": [
    {
     "data": {
      "text/plain": [
       "array(['2 өрөө', '1 өрөө', '3 өрөө', '4 өрөө', '5+ өрөө'], dtype=object)"
      ]
     },
     "execution_count": 63,
     "metadata": {},
     "output_type": "execute_result"
    }
   ],
   "source": [
    "test['rooms'].unique()"
   ]
  },
  {
   "cell_type": "code",
   "execution_count": 64,
   "metadata": {},
   "outputs": [],
   "source": [
    "test['rooms'] = test['rooms'].str[0]"
   ]
  },
  {
   "cell_type": "code",
   "execution_count": 65,
   "metadata": {},
   "outputs": [],
   "source": [
    "test['rooms'] = test['rooms'].astype('int')"
   ]
  },
  {
   "cell_type": "markdown",
   "metadata": {},
   "source": [
    "Each number in 'rooms' column represents the number of the rooms. Only '5' means following apartment has 5 or more rooms."
   ]
  },
  {
   "cell_type": "markdown",
   "metadata": {},
   "source": [
    "### Garage"
   ]
  },
  {
   "cell_type": "code",
   "execution_count": 66,
   "metadata": {},
   "outputs": [
    {
     "data": {
      "text/plain": [
       "array(['Байгаа', 'Байхгүй'], dtype=object)"
      ]
     },
     "execution_count": 66,
     "metadata": {},
     "output_type": "execute_result"
    }
   ],
   "source": [
    "X['garage'].unique()"
   ]
  },
  {
   "cell_type": "code",
   "execution_count": 67,
   "metadata": {},
   "outputs": [
    {
     "data": {
      "text/plain": [
       "array(['Байхгүй', 'Байгаа'], dtype=object)"
      ]
     },
     "execution_count": 67,
     "metadata": {},
     "output_type": "execute_result"
    }
   ],
   "source": [
    "test['garage'].unique()"
   ]
  },
  {
   "cell_type": "code",
   "execution_count": 68,
   "metadata": {},
   "outputs": [],
   "source": [
    "X['garage'] = X['garage'].replace('Байхгүй', 0).replace('Байгаа', 1)"
   ]
  },
  {
   "cell_type": "code",
   "execution_count": 69,
   "metadata": {},
   "outputs": [],
   "source": [
    "test['garage'] = test['garage'].replace('Байхгүй', 0).replace('Байгаа', 1)"
   ]
  },
  {
   "cell_type": "markdown",
   "metadata": {},
   "source": [
    "0 means there is no garage. 1 means there will be a garage."
   ]
  },
  {
   "cell_type": "markdown",
   "metadata": {},
   "source": [
    "### District"
   ]
  },
  {
   "cell_type": "code",
   "execution_count": 70,
   "metadata": {},
   "outputs": [
    {
     "data": {
      "text/plain": [
       "array(['Хан-Уул', 'Баянзүрх', 'Баянгол', 'Сонгино Хайрхан', 'Сүхбаатар',\n",
       "       'Чингэлтэй'], dtype=object)"
      ]
     },
     "execution_count": 70,
     "metadata": {},
     "output_type": "execute_result"
    }
   ],
   "source": [
    "X['district'].unique()"
   ]
  },
  {
   "cell_type": "code",
   "execution_count": 71,
   "metadata": {},
   "outputs": [
    {
     "data": {
      "text/plain": [
       "array(['Сүхбаатар', 'Баянзүрх', 'Баянгол', 'Чингэлтэй', 'Хан-Уул',\n",
       "       'Сонгино Хайрхан'], dtype=object)"
      ]
     },
     "execution_count": 71,
     "metadata": {},
     "output_type": "execute_result"
    }
   ],
   "source": [
    "test['district'].unique()"
   ]
  },
  {
   "cell_type": "code",
   "execution_count": 72,
   "metadata": {},
   "outputs": [],
   "source": [
    "X['district'] = X['district'].replace('Хан-Уул', 0).replace('Баянзүрх', 1).replace('Баянгол', 2).replace('Сонгино Хайрхан', 3).replace('Сүхбаатар', 4).replace('Чингэлтэй', 5)"
   ]
  },
  {
   "cell_type": "code",
   "execution_count": 73,
   "metadata": {},
   "outputs": [],
   "source": [
    "test['district'] = test['district'].replace('Хан-Уул', 0).replace('Баянзүрх', 1).replace('Баянгол', 2).replace('Сонгино Хайрхан', 3).replace('Сүхбаатар', 4).replace('Чингэлтэй', 5)"
   ]
  },
  {
   "cell_type": "code",
   "execution_count": 74,
   "metadata": {},
   "outputs": [
    {
     "data": {
      "text/plain": [
       "array([0, 1, 2, 3, 4, 5], dtype=int64)"
      ]
     },
     "execution_count": 74,
     "metadata": {},
     "output_type": "execute_result"
    }
   ],
   "source": [
    "X['district'].unique()"
   ]
  },
  {
   "cell_type": "code",
   "execution_count": 75,
   "metadata": {},
   "outputs": [
    {
     "data": {
      "text/plain": [
       "array([4, 1, 2, 5, 0, 3], dtype=int64)"
      ]
     },
     "execution_count": 75,
     "metadata": {},
     "output_type": "execute_result"
    }
   ],
   "source": [
    "test['district'].unique()"
   ]
  },
  {
   "cell_type": "markdown",
   "metadata": {},
   "source": [
    "0 - Хан-Уул, 1 - Баянзүрх, 2 - Баянгол, 3- Сонгино Хайрхан, 4 - Сүхбаатар, 5 - Чингэлтэй"
   ]
  },
  {
   "cell_type": "markdown",
   "metadata": {},
   "source": [
    "### Leasing"
   ]
  },
  {
   "cell_type": "code",
   "execution_count": 76,
   "metadata": {},
   "outputs": [
    {
     "data": {
      "text/plain": [
       "array(['Лизинггүй', 'Хувь лизингтэй', 'Банкны лизингтэй'], dtype=object)"
      ]
     },
     "execution_count": 76,
     "metadata": {},
     "output_type": "execute_result"
    }
   ],
   "source": [
    "X['leasing'].unique()"
   ]
  },
  {
   "cell_type": "code",
   "execution_count": 77,
   "metadata": {},
   "outputs": [
    {
     "data": {
      "text/plain": [
       "array(['Лизинггүй', 'Хувь лизингтэй', 'Банкны лизингтэй'], dtype=object)"
      ]
     },
     "execution_count": 77,
     "metadata": {},
     "output_type": "execute_result"
    }
   ],
   "source": [
    "test['leasing'].unique()"
   ]
  },
  {
   "cell_type": "code",
   "execution_count": 78,
   "metadata": {},
   "outputs": [],
   "source": [
    "X['leasing'] = X['leasing'].replace('Лизинггүй', 0).replace('Хувь лизингтэй', 1).replace('Банкны лизингтэй', 2)"
   ]
  },
  {
   "cell_type": "code",
   "execution_count": 79,
   "metadata": {},
   "outputs": [],
   "source": [
    "test['leasing'] = test['leasing'].replace('Лизинггүй', 0).replace('Хувь лизингтэй', 1).replace('Банкны лизингтэй', 2)"
   ]
  },
  {
   "cell_type": "code",
   "execution_count": 80,
   "metadata": {},
   "outputs": [
    {
     "data": {
      "text/plain": [
       "array([0, 1, 2], dtype=int64)"
      ]
     },
     "execution_count": 80,
     "metadata": {},
     "output_type": "execute_result"
    }
   ],
   "source": [
    "X['leasing'].unique()"
   ]
  },
  {
   "cell_type": "code",
   "execution_count": 81,
   "metadata": {},
   "outputs": [
    {
     "data": {
      "text/plain": [
       "array([0, 1, 2], dtype=int64)"
      ]
     },
     "execution_count": 81,
     "metadata": {},
     "output_type": "execute_result"
    }
   ],
   "source": [
    "test['leasing'].unique()"
   ]
  },
  {
   "cell_type": "markdown",
   "metadata": {},
   "source": [
    "0 - Лизинггүй/No leasing, 1 - Хувь лизингтэй/Personal loan, 2 - Банкны лизингтэй/Bank loan"
   ]
  },
  {
   "cell_type": "markdown",
   "metadata": {},
   "source": [
    "### Balcony"
   ]
  },
  {
   "cell_type": "code",
   "execution_count": 82,
   "metadata": {},
   "outputs": [
    {
     "data": {
      "text/plain": [
       "array(['2 тагттай', '1 тагттай', 'Тагтгүй', '3+ тагттай'], dtype=object)"
      ]
     },
     "execution_count": 82,
     "metadata": {},
     "output_type": "execute_result"
    }
   ],
   "source": [
    "X['balcony'].unique()"
   ]
  },
  {
   "cell_type": "code",
   "execution_count": 83,
   "metadata": {},
   "outputs": [
    {
     "data": {
      "text/plain": [
       "array(['1 тагттай', 'Тагтгүй', '2 тагттай', '3+ тагттай'], dtype=object)"
      ]
     },
     "execution_count": 83,
     "metadata": {},
     "output_type": "execute_result"
    }
   ],
   "source": [
    "test['balcony'].unique()"
   ]
  },
  {
   "cell_type": "code",
   "execution_count": 84,
   "metadata": {},
   "outputs": [],
   "source": [
    "X['balcony'] = X['balcony'].str[0]"
   ]
  },
  {
   "cell_type": "code",
   "execution_count": 85,
   "metadata": {},
   "outputs": [],
   "source": [
    "test['balcony'] = test['balcony'].str[0]"
   ]
  },
  {
   "cell_type": "code",
   "execution_count": 86,
   "metadata": {},
   "outputs": [],
   "source": [
    "X['balcony'] = X['balcony'].replace('Т', 0)"
   ]
  },
  {
   "cell_type": "code",
   "execution_count": 87,
   "metadata": {},
   "outputs": [],
   "source": [
    "test['balcony'] = test['balcony'].replace('Т', 0)"
   ]
  },
  {
   "cell_type": "code",
   "execution_count": 88,
   "metadata": {},
   "outputs": [],
   "source": [
    "X['balcony'] = X['balcony'].astype(int)"
   ]
  },
  {
   "cell_type": "code",
   "execution_count": 89,
   "metadata": {},
   "outputs": [],
   "source": [
    "test['balcony'] = test['balcony'].astype(int)"
   ]
  },
  {
   "cell_type": "code",
   "execution_count": 90,
   "metadata": {},
   "outputs": [
    {
     "data": {
      "text/plain": [
       "array([2, 1, 0, 3])"
      ]
     },
     "execution_count": 90,
     "metadata": {},
     "output_type": "execute_result"
    }
   ],
   "source": [
    "X['balcony'].unique()"
   ]
  },
  {
   "cell_type": "code",
   "execution_count": 91,
   "metadata": {},
   "outputs": [
    {
     "data": {
      "text/plain": [
       "array([1, 0, 2, 3])"
      ]
     },
     "execution_count": 91,
     "metadata": {},
     "output_type": "execute_result"
    }
   ],
   "source": [
    "test['balcony'].unique()"
   ]
  },
  {
   "cell_type": "markdown",
   "metadata": {},
   "source": [
    "Each number in 'balcony' column represents the number of the balconies. Only '3' means following apartment has 3 or more rooms."
   ]
  },
  {
   "cell_type": "markdown",
   "metadata": {},
   "source": [
    "### Size Meters"
   ]
  },
  {
   "cell_type": "code",
   "execution_count": 92,
   "metadata": {},
   "outputs": [
    {
     "data": {
      "text/plain": [
       "count   3862.00000\n",
       "mean      67.18090\n",
       "std       35.99985\n",
       "min       16.00000\n",
       "25%       45.00000\n",
       "50%       57.00000\n",
       "75%       80.00000\n",
       "max      400.00000\n",
       "Name: size_meters, dtype: float64"
      ]
     },
     "execution_count": 92,
     "metadata": {},
     "output_type": "execute_result"
    }
   ],
   "source": [
    "X['size_meters'].describe()"
   ]
  },
  {
   "cell_type": "code",
   "execution_count": 93,
   "metadata": {},
   "outputs": [
    {
     "data": {
      "text/plain": [
       "Text(0.5, 0, 'Size meter')"
      ]
     },
     "execution_count": 93,
     "metadata": {},
     "output_type": "execute_result"
    },
    {
     "data": {
      "image/png": "[encoded data removed]",
      "text/plain": [
       "<Figure size 864x576 with 1 Axes>"
      ]
     },
     "metadata": {},
     "output_type": "display_data"
    }
   ],
   "source": [
    "X['size_meters'].hist()\n",
    "plt.title('Size Meters')\n",
    "plt.ylabel('Frequency')\n",
    "plt.xlabel('Size meter')"
   ]
  },
  {
   "cell_type": "markdown",
   "metadata": {},
   "source": [
    "### Door Type"
   ]
  },
  {
   "cell_type": "code",
   "execution_count": 94,
   "metadata": {},
   "outputs": [
    {
     "data": {
      "text/plain": [
       "array(['Төмөр вакум', 'Төмөр', 'Вакум', 'Бүргэд', 'Мод'], dtype=object)"
      ]
     },
     "execution_count": 94,
     "metadata": {},
     "output_type": "execute_result"
    }
   ],
   "source": [
    "X['door_type'].unique()"
   ]
  },
  {
   "cell_type": "code",
   "execution_count": 95,
   "metadata": {},
   "outputs": [
    {
     "data": {
      "text/plain": [
       "array(['Бүргэд', 'Мод', 'Төмөр', 'Төмөр вакум', 'Вакум'], dtype=object)"
      ]
     },
     "execution_count": 95,
     "metadata": {},
     "output_type": "execute_result"
    }
   ],
   "source": [
    "test['door_type'].unique()"
   ]
  },
  {
   "cell_type": "code",
   "execution_count": 96,
   "metadata": {},
   "outputs": [],
   "source": [
    "X['door_type'] = X['door_type'].replace('Бүргэд', 0).replace('Мод', 1).replace('Төмөр', 2).replace('Төмөр вакум', 3).replace('Вакум', 4)"
   ]
  },
  {
   "cell_type": "code",
   "execution_count": 97,
   "metadata": {},
   "outputs": [],
   "source": [
    "test['door_type'] = test['door_type'].replace('Бүргэд', 0).replace('Мод', 1).replace('Төмөр', 2).replace('Төмөр вакум', 3).replace('Вакум', 4)"
   ]
  },
  {
   "cell_type": "code",
   "execution_count": 98,
   "metadata": {},
   "outputs": [
    {
     "data": {
      "text/plain": [
       "array([3, 2, 4, 0, 1], dtype=int64)"
      ]
     },
     "execution_count": 98,
     "metadata": {},
     "output_type": "execute_result"
    }
   ],
   "source": [
    "X['door_type'].unique()"
   ]
  },
  {
   "cell_type": "code",
   "execution_count": 99,
   "metadata": {},
   "outputs": [
    {
     "data": {
      "text/plain": [
       "array([0, 1, 2, 3, 4], dtype=int64)"
      ]
     },
     "execution_count": 99,
     "metadata": {},
     "output_type": "execute_result"
    }
   ],
   "source": [
    "test['door_type'].unique()"
   ]
  },
  {
   "cell_type": "markdown",
   "metadata": {},
   "source": [
    "0 - Бүргэд/ , 1 - Мод/Wooden, 2 - Төмөр/Iron, 3 - Төмөр вакум/Vacuum iron, 4 - Вакум/Vacuum"
   ]
  },
  {
   "cell_type": "markdown",
   "metadata": {},
   "source": [
    "### Window Type"
   ]
  },
  {
   "cell_type": "code",
   "execution_count": 100,
   "metadata": {},
   "outputs": [
    {
     "data": {
      "text/plain": [
       "array(['Модон вакум', 'Вакум', 'Мод', 'Төмөр вакум'], dtype=object)"
      ]
     },
     "execution_count": 100,
     "metadata": {},
     "output_type": "execute_result"
    }
   ],
   "source": [
    "X['window_type'].unique()"
   ]
  },
  {
   "cell_type": "code",
   "execution_count": 101,
   "metadata": {},
   "outputs": [
    {
     "data": {
      "text/plain": [
       "array(['Вакум', 'Төмөр вакум', 'Модон вакум', 'Мод'], dtype=object)"
      ]
     },
     "execution_count": 101,
     "metadata": {},
     "output_type": "execute_result"
    }
   ],
   "source": [
    "test['window_type'].unique()"
   ]
  },
  {
   "cell_type": "code",
   "execution_count": 102,
   "metadata": {},
   "outputs": [],
   "source": [
    "X['window_type'] = X['window_type'].replace('Модон вакум', 0).replace('Вакум', 1).replace('Мод', 2).replace('Төмөр вакум', 3)"
   ]
  },
  {
   "cell_type": "code",
   "execution_count": 103,
   "metadata": {},
   "outputs": [],
   "source": [
    "test['window_type'] = test['window_type'].replace('Модон вакум', 0).replace('Вакум', 1).replace('Мод', 2).replace('Төмөр вакум', 3)"
   ]
  },
  {
   "cell_type": "code",
   "execution_count": 104,
   "metadata": {},
   "outputs": [
    {
     "data": {
      "text/plain": [
       "array([0, 1, 2, 3], dtype=int64)"
      ]
     },
     "execution_count": 104,
     "metadata": {},
     "output_type": "execute_result"
    }
   ],
   "source": [
    "X['window_type'].unique()"
   ]
  },
  {
   "cell_type": "code",
   "execution_count": 105,
   "metadata": {},
   "outputs": [
    {
     "data": {
      "text/plain": [
       "array([1, 3, 0, 2], dtype=int64)"
      ]
     },
     "execution_count": 105,
     "metadata": {},
     "output_type": "execute_result"
    }
   ],
   "source": [
    "test['window_type'].unique()"
   ]
  },
  {
   "cell_type": "markdown",
   "metadata": {},
   "source": [
    "0 - Модон вакум/Vacuum wooden, 1 - Вакум/Vacuum, 2 - Мод/Wooden, 3 - Төмөр вакум/Vacuum Iron"
   ]
  },
  {
   "cell_type": "markdown",
   "metadata": {},
   "source": [
    "### Floor Type"
   ]
  },
  {
   "cell_type": "code",
   "execution_count": 106,
   "metadata": {},
   "outputs": [
    {
     "data": {
      "text/plain": [
       "array(['Паркет', 'Цемент', 'Мод', 'Ламинат', 'Плита', 'Чулуу'],\n",
       "      dtype=object)"
      ]
     },
     "execution_count": 106,
     "metadata": {},
     "output_type": "execute_result"
    }
   ],
   "source": [
    "X['floor_type'].unique()"
   ]
  },
  {
   "cell_type": "code",
   "execution_count": 107,
   "metadata": {},
   "outputs": [
    {
     "data": {
      "text/plain": [
       "array(['Паркет', 'Мод', 'Ламинат', 'Чулуу', 'Цемент', 'Плита'],\n",
       "      dtype=object)"
      ]
     },
     "execution_count": 107,
     "metadata": {},
     "output_type": "execute_result"
    }
   ],
   "source": [
    "test['floor_type'].unique()"
   ]
  },
  {
   "cell_type": "code",
   "execution_count": 108,
   "metadata": {},
   "outputs": [],
   "source": [
    "X['floor_type'] = X['floor_type'].replace('Паркет', 0).replace('Цемент', 1).replace('Мод', 2).replace('Ламинат', 3).replace('Плита', 4).replace('Чулуу', 5)"
   ]
  },
  {
   "cell_type": "code",
   "execution_count": 109,
   "metadata": {},
   "outputs": [],
   "source": [
    "test['floor_type'] = test['floor_type'].replace('Паркет', 0).replace('Цемент', 1).replace('Мод', 2).replace('Ламинат', 3).replace('Плита', 4).replace('Чулуу', 5)"
   ]
  },
  {
   "cell_type": "code",
   "execution_count": 110,
   "metadata": {},
   "outputs": [
    {
     "data": {
      "text/plain": [
       "array([0, 2, 3, 5, 1, 4], dtype=int64)"
      ]
     },
     "execution_count": 110,
     "metadata": {},
     "output_type": "execute_result"
    }
   ],
   "source": [
    "test['floor_type'].unique()"
   ]
  },
  {
   "cell_type": "code",
   "execution_count": 111,
   "metadata": {},
   "outputs": [
    {
     "data": {
      "text/plain": [
       "array([0, 2, 3, 5, 1, 4], dtype=int64)"
      ]
     },
     "execution_count": 111,
     "metadata": {},
     "output_type": "execute_result"
    }
   ],
   "source": [
    "test['floor_type'].unique()"
   ]
  },
  {
   "cell_type": "markdown",
   "metadata": {},
   "source": [
    "### Location"
   ]
  },
  {
   "cell_type": "code",
   "execution_count": 112,
   "metadata": {},
   "outputs": [
    {
     "data": {
      "text/plain": [
       "array(['Зайсан', 'Нисэх', 'Бусад', '25-р эмийн сан', '21-р хороолол',\n",
       "       '100 айл', '16-р хороолол', '120 мянгат', '1-р хороолол',\n",
       "       '3, 4 хороолол', 'Яармаг', '13-р хороолол', 'River stone',\n",
       "       '19-р хороолол', '11-р хороолол', 'Хурд', 'Хансвилл хотхон',\n",
       "       'Japan town', 'Цэлмэг хотхон', 'Viva city', 'River Garden',\n",
       "       '10-р хороолол', '6-р бичил', 'Офицер', 'Амгалан',\n",
       "       'Москва хороолол', '14-р хороолол', '40, 50 мянгат', 'Sunrise',\n",
       "       'Зүүн 4 зам', '220 мянгат', 'Сансар', 'Толгойт',\n",
       "       'Их Монгол хороолол', '5 шар', 'Нарны хороолол', 'Алтай хотхон',\n",
       "       'Marshall town', 'Баянмонгол хороолол', 'Төмөр зам', 'UB Town',\n",
       "       'Ханын материал', 'Дөлгөөн нуур', '15-р хороолол', 'Бага тойрог',\n",
       "       'King Tower', 'Нэхмэлийн шар', 'Хүннү', 'Баруун 4 зам',\n",
       "       'Чингэлтэй', 'Богд-Ар', '5-р хороолол', 'Хос-Өргөө',\n",
       "       'Өгөөмөр захын зүүн', 'Гандан', 'Олимп хотхон', 'Чулуун овоо',\n",
       "       'Bella Vista', 'Баянхошуу', 'Тээврийн товчоо', 'Эрдэнэ толгой',\n",
       "       'Өлзийт хороолол', 'Дамбадаржаа', 'Дэнжийн 1000', 'Баянбүрд',\n",
       "       'Zaisan luxury village', 'Орбит', 'Romana Residence',\n",
       "       'Olympic village', '2 - 7 буудал', 'Нархан хотхон', 'Ханбүргэдэй',\n",
       "       'Дарь Эх', 'Оддын хороолол', 'Шар хад', 'Сонсголон',\n",
       "       'Био комбинат', 'Edu apart campus'], dtype=object)"
      ]
     },
     "execution_count": 112,
     "metadata": {},
     "output_type": "execute_result"
    }
   ],
   "source": [
    "X['location'].unique()"
   ]
  },
  {
   "cell_type": "code",
   "execution_count": 113,
   "metadata": {},
   "outputs": [],
   "source": [
    "X['location'] = X['location'].replace('Зайсан', 0).replace('Нисэх', 1).replace('Бусад', 2).replace('25-р эмийн сан', 3).replace('21-р хороолол', 4).replace('100 айл', 5).replace('6-р хороолол', 6).replace('120 мянгат', 7).replace('1-р хороолол', 8).replace('3, 4 хороолол', 9).replace('Яармаг', 10).replace('13-р хороолол', 11).replace('River stone', 12).replace('19-р хороолол', 13).replace('11-р хороолол', 14).replace('Хурд', 15).replace('Хансвилл хотхон', 16).replace('Japan town', 17).replace('Цэлмэг хотхон', 18).replace('Viva city', 19).replace('10-р хороолол', 20).replace('6-р бичил', 21).replace('Офицер', 22).replace('Амгалан', 23).replace('Москва хороолол', 24).replace('14-р хороолол', 25).replace('40, 50 мянгат', 26).replace('Sunrise', 27).replace('Зүүн 4 зам', 28).replace('220 мянгат', 28).replace('Сансар', 29).replace('Толгойт', 30).replace('Их Монгол хороолол', 31).replace('5 шар', 32).replace('Нарны хороолол', 33).replace('Алтай хотхон', 34).replace('Marshall town', 35).replace('Баянмонгол хороолол', 36).replace('Төмөр зам', 37).replace('UB Town', 38).replace('Ханын материал', 39).replace('Дөлгөөн нуур', 40).replace('15-р хороолол', 41).replace('Бага тойрог', 42).replace('King Tower', 43).replace('Нэхмэлийн шар', 44).replace('Хүннү', 45).replace('Баруун 4 зам', 46).replace('Чингэлтэй', 47).replace('Богд-Ар', 48).replace('5-р хороолол', 49).replace('Хос-Өргөө', 50).replace('Өгөөмөр захын зүүн', 51).replace('Гандан', 52).replace('Олимп хотхон', 53).replace('Чулуун овоо', 54).replace('Bella Vista', 55).replace('Баянхошуу', 56).replace('Тээврийн товчоо', 57).replace('Эрдэнэ толгой', 58).replace('Өлзийт хороолол', 59).replace('Дамбадаржаа', 60).replace('Дэнжийн 1000', 61).replace('Баянбүрд', 62).replace('Zaisan luxury village', 63).replace('Орбит', 64).replace('Romana Residence', 65).replace('Olympic village', 66).replace('2 - 7 буудал', 67).replace('Нархан хотхон', 68).replace('Ханбүргэдэй', 69).replace('Дарь Эх', 70).replace('Оддын хороолол', 71).replace('Шар хад', 72).replace('Сонсголон', 73).replace('Био комбинат', 74).replace('Edu apart campus', 75).replace('16-р хороолол', 76).replace('River Garden', 77)"
   ]
  },
  {
   "cell_type": "code",
   "execution_count": 114,
   "metadata": {},
   "outputs": [
    {
     "data": {
      "text/plain": [
       "array([ 0,  1,  2,  3,  4,  5, 76,  7,  8,  9, 10, 11, 12, 13, 14, 15, 16,\n",
       "       17, 18, 19, 77, 20, 21, 22, 23, 24, 25, 26, 27, 28, 29, 30, 31, 32,\n",
       "       33, 34, 35, 36, 37, 38, 39, 40, 41, 42, 43, 44, 45, 46, 47, 48, 49,\n",
       "       50, 51, 52, 53, 54, 55, 56, 57, 58, 59, 60, 61, 62, 63, 64, 65, 66,\n",
       "       67, 68, 69, 70, 71, 72, 73, 74, 75], dtype=int64)"
      ]
     },
     "execution_count": 114,
     "metadata": {},
     "output_type": "execute_result"
    }
   ],
   "source": [
    "X['location'].unique()"
   ]
  },
  {
   "cell_type": "code",
   "execution_count": 115,
   "metadata": {},
   "outputs": [],
   "source": [
    "test['location'] = test['location'].replace('Зайсан', 0).replace('Нисэх', 1).replace('Бусад', 2).replace('25-р эмийн сан', 3).replace('21-р хороолол', 4).replace('100 айл', 5).replace('6-р хороолол', 6).replace('120 мянгат', 7).replace('1-р хороолол', 8).replace('3, 4 хороолол', 9).replace('Яармаг', 10).replace('13-р хороолол', 11).replace('River stone', 12).replace('19-р хороолол', 13).replace('11-р хороолол', 14).replace('Хурд', 15).replace('Хансвилл хотхон', 16).replace('Japan town', 17).replace('Цэлмэг хотхон', 18).replace('Viva city', 19).replace('10-р хороолол', 20).replace('6-р бичил', 21).replace('Офицер', 22).replace('Амгалан', 23).replace('Москва хороолол', 24).replace('14-р хороолол', 25).replace('40, 50 мянгат', 26).replace('Sunrise', 27).replace('Зүүн 4 зам', 28).replace('220 мянгат', 28).replace('Сансар', 29).replace('Толгойт', 30).replace('Их Монгол хороолол', 31).replace('5 шар', 32).replace('Нарны хороолол', 33).replace('Алтай хотхон', 34).replace('Marshall town', 35).replace('Баянмонгол хороолол', 36).replace('Төмөр зам', 37).replace('UB Town', 38).replace('Ханын материал', 39).replace('Дөлгөөн нуур', 40).replace('15-р хороолол', 41).replace('Бага тойрог', 42).replace('King Tower', 43).replace('Нэхмэлийн шар', 44).replace('Хүннү', 45).replace('Баруун 4 зам', 46).replace('Чингэлтэй', 47).replace('Богд-Ар', 48).replace('5-р хороолол', 49).replace('Хос-Өргөө', 50).replace('Өгөөмөр захын зүүн', 51).replace('Гандан', 52).replace('Олимп хотхон', 53).replace('Чулуун овоо', 54).replace('Bella Vista', 55).replace('Баянхошуу', 56).replace('Тээврийн товчоо', 57).replace('Эрдэнэ толгой', 58).replace('Өлзийт хороолол', 59).replace('Дамбадаржаа', 60).replace('Дэнжийн 1000', 61).replace('Баянбүрд', 62).replace('Zaisan luxury village', 63).replace('Орбит', 64).replace('Romana Residence', 65).replace('Olympic village', 66).replace('2 - 7 буудал', 67).replace('Нархан хотхон', 68).replace('Ханбүргэдэй', 69).replace('Дарь Эх', 70).replace('Оддын хороолол', 71).replace('Шар хад', 72).replace('Сонсголон', 73).replace('Био комбинат', 74).replace('Edu apart campus', 75).replace('16-р хороолол', 76).replace('River Garden', 77)"
   ]
  },
  {
   "cell_type": "code",
   "execution_count": 116,
   "metadata": {},
   "outputs": [
    {
     "data": {
      "text/plain": [
       "array([ 5, 41,  9, 62,  0, 42, 40, 24,  8, 51, 11,  1, 19,  2, 36, 32, 10,\n",
       "       13, 46, 12, 20, 77, 23, 65, 34, 76, 21, 25, 14, 43, 50, 37,  4, 49,\n",
       "       15, 72, 26, 18, 33, 28, 53,  7, 38, 54, 22, 45, 56, 31, 29, 55, 48,\n",
       "        3, 66, 68, 74, 27, 63, 39, 17, 71, 73, 16], dtype=int64)"
      ]
     },
     "execution_count": 116,
     "metadata": {},
     "output_type": "execute_result"
    }
   ],
   "source": [
    "test['location'].unique()"
   ]
  },
  {
   "cell_type": "code",
   "execution_count": 117,
   "metadata": {},
   "outputs": [
    {
     "data": {
      "text/plain": [
       "rooms                    int32\n",
       "year_built               int64\n",
       "location                 int64\n",
       "building_floor_num       int64\n",
       "garage                   int64\n",
       "district                 int64\n",
       "leasing                  int64\n",
       "balcony                  int32\n",
       "size_meters            float64\n",
       "door_type                int64\n",
       "apartment_floor_num      int64\n",
       "window_type              int64\n",
       "num_windows              int64\n",
       "floor_type               int64\n",
       "dtype: object"
      ]
     },
     "execution_count": 117,
     "metadata": {},
     "output_type": "execute_result"
    }
   ],
   "source": [
    "X.dtypes"
   ]
  },
  {
   "cell_type": "code",
   "execution_count": 118,
   "metadata": {},
   "outputs": [
    {
     "data": {
      "text/plain": [
       "rooms                    int32\n",
       "year_built               int64\n",
       "location                 int64\n",
       "building_floor_num       int64\n",
       "garage                   int64\n",
       "district                 int64\n",
       "leasing                  int64\n",
       "balcony                  int32\n",
       "size_meters            float64\n",
       "door_type                int64\n",
       "apartment_floor_num      int64\n",
       "window_type              int64\n",
       "num_windows              int64\n",
       "floor_type               int64\n",
       "dtype: object"
      ]
     },
     "execution_count": 118,
     "metadata": {},
     "output_type": "execute_result"
    }
   ],
   "source": [
    "test.dtypes"
   ]
  },
  {
   "cell_type": "markdown",
   "metadata": {},
   "source": [
    "## Importing Liabraries"
   ]
  },
  {
   "cell_type": "code",
   "execution_count": 119,
   "metadata": {},
   "outputs": [],
   "source": [
    "from sklearn import *"
   ]
  },
  {
   "cell_type": "code",
   "execution_count": 120,
   "metadata": {},
   "outputs": [],
   "source": [
    "import sklearn"
   ]
  },
  {
   "cell_type": "markdown",
   "metadata": {},
   "source": [
    "## Trying different Regression Models"
   ]
  },
  {
   "cell_type": "code",
   "execution_count": 121,
   "metadata": {},
   "outputs": [],
   "source": [
    "from sklearn.model_selection import train_test_split"
   ]
  },
  {
   "cell_type": "code",
   "execution_count": 122,
   "metadata": {},
   "outputs": [],
   "source": [
    "X_train, X_test, y_train, y_test = train_test_split(X, y, test_size=0.2, random_state=525)"
   ]
  },
  {
   "cell_type": "markdown",
   "metadata": {},
   "source": [
    "### Linear Regression"
   ]
  },
  {
   "cell_type": "code",
   "execution_count": 123,
   "metadata": {},
   "outputs": [],
   "source": [
    "from sklearn.linear_model import LinearRegression"
   ]
  },
  {
   "cell_type": "code",
   "execution_count": 124,
   "metadata": {},
   "outputs": [],
   "source": [
    "lin_reg = LinearRegression()"
   ]
  },
  {
   "cell_type": "code",
   "execution_count": 125,
   "metadata": {},
   "outputs": [
    {
     "data": {
      "text/plain": [
       "LinearRegression()"
      ]
     },
     "execution_count": 125,
     "metadata": {},
     "output_type": "execute_result"
    }
   ],
   "source": [
    "lin_reg.fit(X_train, y_train)"
   ]
  },
  {
   "cell_type": "code",
   "execution_count": 126,
   "metadata": {},
   "outputs": [
    {
     "data": {
      "text/plain": [
       "0.20833871396689152"
      ]
     },
     "execution_count": 126,
     "metadata": {},
     "output_type": "execute_result"
    }
   ],
   "source": [
    "lin_reg.score(X_test, y_test)"
   ]
  },
  {
   "cell_type": "code",
   "execution_count": 127,
   "metadata": {},
   "outputs": [],
   "source": [
    "lin_reg_pred = lin_reg.predict(X_test)"
   ]
  },
  {
   "cell_type": "code",
   "execution_count": 128,
   "metadata": {},
   "outputs": [],
   "source": [
    "from sklearn.metrics import mean_squared_error"
   ]
  },
  {
   "cell_type": "code",
   "execution_count": 129,
   "metadata": {},
   "outputs": [
    {
     "data": {
      "text/plain": [
       "635407.0138067323"
      ]
     },
     "execution_count": 129,
     "metadata": {},
     "output_type": "execute_result"
    }
   ],
   "source": [
    "lin_rmse = mean_squared_error(y_test, lin_reg_pred, squared=False)\n",
    "lin_rmse"
   ]
  },
  {
   "cell_type": "markdown",
   "metadata": {},
   "source": [
    "### Random Forest"
   ]
  },
  {
   "cell_type": "code",
   "execution_count": 130,
   "metadata": {},
   "outputs": [
    {
     "name": "stderr",
     "output_type": "stream",
     "text": [
      "<ipython-input-130-bf9f8df3de1a>:4: DataConversionWarning: A column-vector y was passed when a 1d array was expected. Please change the shape of y to (n_samples,), for example using ravel().\n",
      "  forest_reg.fit(X_train, y_train)\n"
     ]
    },
    {
     "data": {
      "text/plain": [
       "RandomForestRegressor(n_jobs=-1, random_state=42)"
      ]
     },
     "execution_count": 130,
     "metadata": {},
     "output_type": "execute_result"
    }
   ],
   "source": [
    "from sklearn.ensemble import RandomForestRegressor\n",
    "\n",
    "forest_reg = RandomForestRegressor(n_estimators=100, random_state=42, n_jobs=-1)\n",
    "forest_reg.fit(X_train, y_train)"
   ]
  },
  {
   "cell_type": "code",
   "execution_count": 131,
   "metadata": {},
   "outputs": [
    {
     "data": {
      "text/plain": [
       "447830.7099555979"
      ]
     },
     "execution_count": 131,
     "metadata": {},
     "output_type": "execute_result"
    }
   ],
   "source": [
    "random_predictions = forest_reg.predict(X_test)\n",
    "forest_mse = mean_squared_error(y_test, random_predictions)\n",
    "forest_rmse = np.sqrt(forest_mse)\n",
    "forest_rmse"
   ]
  },
  {
   "cell_type": "markdown",
   "metadata": {},
   "source": [
    "### Prediction 1"
   ]
  },
  {
   "cell_type": "code",
   "execution_count": 226,
   "metadata": {},
   "outputs": [],
   "source": [
    "housing_pred = forest_reg.predict(test)"
   ]
  },
  {
   "cell_type": "code",
   "execution_count": 229,
   "metadata": {},
   "outputs": [
    {
     "data": {
      "text/html": [
       "<div>\n",
       "<style scoped>\n",
       "    .dataframe tbody tr th:only-of-type {\n",
       "        vertical-align: middle;\n",
       "    }\n",
       "\n",
       "    .dataframe tbody tr th {\n",
       "        vertical-align: top;\n",
       "    }\n",
       "\n",
       "    .dataframe thead th {\n",
       "        text-align: right;\n",
       "    }\n",
       "</style>\n",
       "<table border=\"1\" class=\"dataframe\">\n",
       "  <thead>\n",
       "    <tr style=\"text-align: right;\">\n",
       "      <th></th>\n",
       "      <th>price</th>\n",
       "    </tr>\n",
       "    <tr>\n",
       "      <th>id</th>\n",
       "      <th></th>\n",
       "    </tr>\n",
       "  </thead>\n",
       "  <tbody>\n",
       "    <tr>\n",
       "      <th>3901</th>\n",
       "      <td>1741534.34487</td>\n",
       "    </tr>\n",
       "    <tr>\n",
       "      <th>353</th>\n",
       "      <td>1577253.44358</td>\n",
       "    </tr>\n",
       "    <tr>\n",
       "      <th>2978</th>\n",
       "      <td>1874576.72129</td>\n",
       "    </tr>\n",
       "    <tr>\n",
       "      <th>1197</th>\n",
       "      <td>1928519.27536</td>\n",
       "    </tr>\n",
       "    <tr>\n",
       "      <th>2121</th>\n",
       "      <td>2123560.61389</td>\n",
       "    </tr>\n",
       "    <tr>\n",
       "      <th>...</th>\n",
       "      <td>...</td>\n",
       "    </tr>\n",
       "    <tr>\n",
       "      <th>550</th>\n",
       "      <td>2083677.99350</td>\n",
       "    </tr>\n",
       "    <tr>\n",
       "      <th>2998</th>\n",
       "      <td>2585022.78982</td>\n",
       "    </tr>\n",
       "    <tr>\n",
       "      <th>1862</th>\n",
       "      <td>1869397.00718</td>\n",
       "    </tr>\n",
       "    <tr>\n",
       "      <th>3456</th>\n",
       "      <td>1650383.31557</td>\n",
       "    </tr>\n",
       "    <tr>\n",
       "      <th>3273</th>\n",
       "      <td>2590603.21900</td>\n",
       "    </tr>\n",
       "  </tbody>\n",
       "</table>\n",
       "<p>966 rows × 1 columns</p>\n",
       "</div>"
      ],
      "text/plain": [
       "             price\n",
       "id                \n",
       "3901 1741534.34487\n",
       "353  1577253.44358\n",
       "2978 1874576.72129\n",
       "1197 1928519.27536\n",
       "2121 2123560.61389\n",
       "...            ...\n",
       "550  2083677.99350\n",
       "2998 2585022.78982\n",
       "1862 1869397.00718\n",
       "3456 1650383.31557\n",
       "3273 2590603.21900\n",
       "\n",
       "[966 rows x 1 columns]"
      ]
     },
     "execution_count": 229,
     "metadata": {},
     "output_type": "execute_result"
    }
   ],
   "source": [
    "housing_pred"
   ]
  },
  {
   "cell_type": "code",
   "execution_count": 228,
   "metadata": {},
   "outputs": [],
   "source": [
    "housing_pred = pd.DataFrame(housing_pred, index=test.index, columns=['price'])"
   ]
  },
  {
   "cell_type": "code",
   "execution_count": 135,
   "metadata": {},
   "outputs": [],
   "source": [
    "housing_pred.to_csv('prediction.csv')"
   ]
  },
  {
   "cell_type": "markdown",
   "metadata": {},
   "source": [
    "### Decision Tree Regressor"
   ]
  },
  {
   "cell_type": "code",
   "execution_count": 136,
   "metadata": {},
   "outputs": [
    {
     "data": {
      "text/plain": [
       "DecisionTreeRegressor(random_state=42)"
      ]
     },
     "execution_count": 136,
     "metadata": {},
     "output_type": "execute_result"
    }
   ],
   "source": [
    "from sklearn.tree import DecisionTreeRegressor\n",
    "\n",
    "tree_reg = DecisionTreeRegressor(random_state=42)\n",
    "tree_reg.fit(X_train, y_train)"
   ]
  },
  {
   "cell_type": "code",
   "execution_count": 137,
   "metadata": {},
   "outputs": [],
   "source": [
    "tree_reg = tree_reg.predict(X_test)"
   ]
  },
  {
   "cell_type": "code",
   "execution_count": 138,
   "metadata": {},
   "outputs": [
    {
     "data": {
      "text/plain": [
       "673105.1480716665"
      ]
     },
     "execution_count": 138,
     "metadata": {},
     "output_type": "execute_result"
    }
   ],
   "source": [
    "tree_rmse = mean_squared_error(y_test, tree_reg, squared=False)\n",
    "tree_rmse"
   ]
  },
  {
   "cell_type": "markdown",
   "metadata": {},
   "source": [
    "### SVM"
   ]
  },
  {
   "cell_type": "code",
   "execution_count": 139,
   "metadata": {},
   "outputs": [],
   "source": [
    "from sklearn import svm"
   ]
  },
  {
   "cell_type": "code",
   "execution_count": 140,
   "metadata": {},
   "outputs": [],
   "source": [
    "svm_reg = svm.SVR()"
   ]
  },
  {
   "cell_type": "code",
   "execution_count": 141,
   "metadata": {},
   "outputs": [
    {
     "name": "stderr",
     "output_type": "stream",
     "text": [
      "C:\\Users\\homepc\\anaconda3\\envs\\intro-python\\lib\\site-packages\\sklearn\\utils\\validation.py:72: DataConversionWarning: A column-vector y was passed when a 1d array was expected. Please change the shape of y to (n_samples, ), for example using ravel().\n",
      "  return f(**kwargs)\n"
     ]
    },
    {
     "data": {
      "text/plain": [
       "SVR()"
      ]
     },
     "execution_count": 141,
     "metadata": {},
     "output_type": "execute_result"
    }
   ],
   "source": [
    "svm_reg.fit(X_train, y_train)"
   ]
  },
  {
   "cell_type": "code",
   "execution_count": 142,
   "metadata": {},
   "outputs": [],
   "source": [
    "svm_reg = svm_reg.predict(X_test)"
   ]
  },
  {
   "cell_type": "code",
   "execution_count": 143,
   "metadata": {},
   "outputs": [
    {
     "data": {
      "text/plain": [
       "746967.0810136364"
      ]
     },
     "execution_count": 143,
     "metadata": {},
     "output_type": "execute_result"
    }
   ],
   "source": [
    "svr_rmse = mean_squared_error(y_test, svm_reg, squared=False)\n",
    "svr_rmse"
   ]
  },
  {
   "cell_type": "markdown",
   "metadata": {},
   "source": [
    "### SGDRegressor"
   ]
  },
  {
   "cell_type": "code",
   "execution_count": 144,
   "metadata": {},
   "outputs": [],
   "source": [
    "from sklearn.linear_model import SGDRegressor\n",
    "from sklearn.pipeline import make_pipeline\n",
    "from sklearn.preprocessing import StandardScaler"
   ]
  },
  {
   "cell_type": "code",
   "execution_count": 145,
   "metadata": {},
   "outputs": [],
   "source": [
    "reg = make_pipeline(StandardScaler(),\n",
    "...                     SGDRegressor(max_iter=1000, tol=1e-3))"
   ]
  },
  {
   "cell_type": "code",
   "execution_count": 146,
   "metadata": {},
   "outputs": [
    {
     "name": "stderr",
     "output_type": "stream",
     "text": [
      "C:\\Users\\homepc\\anaconda3\\envs\\intro-python\\lib\\site-packages\\sklearn\\utils\\validation.py:72: DataConversionWarning: A column-vector y was passed when a 1d array was expected. Please change the shape of y to (n_samples, ), for example using ravel().\n",
      "  return f(**kwargs)\n"
     ]
    },
    {
     "data": {
      "text/plain": [
       "Pipeline(steps=[('standardscaler', StandardScaler()),\n",
       "                ('sgdregressor', SGDRegressor())])"
      ]
     },
     "execution_count": 146,
     "metadata": {},
     "output_type": "execute_result"
    }
   ],
   "source": [
    "reg.fit(X_train, y_train)"
   ]
  },
  {
   "cell_type": "code",
   "execution_count": 147,
   "metadata": {},
   "outputs": [],
   "source": [
    "sgd_reg = reg.predict(X_test)"
   ]
  },
  {
   "cell_type": "code",
   "execution_count": 148,
   "metadata": {},
   "outputs": [
    {
     "data": {
      "text/plain": [
       "635735.9567141259"
      ]
     },
     "execution_count": 148,
     "metadata": {},
     "output_type": "execute_result"
    }
   ],
   "source": [
    "sgd_rmse = mean_squared_error(y_test, sgd_reg, squared=False)\n",
    "sgd_rmse"
   ]
  },
  {
   "cell_type": "markdown",
   "metadata": {},
   "source": [
    "### PLSRegression"
   ]
  },
  {
   "cell_type": "code",
   "execution_count": 149,
   "metadata": {},
   "outputs": [],
   "source": [
    "from sklearn.cross_decomposition import PLSRegression"
   ]
  },
  {
   "cell_type": "code",
   "execution_count": 150,
   "metadata": {},
   "outputs": [],
   "source": [
    "pls2 = PLSRegression(n_components=2)"
   ]
  },
  {
   "cell_type": "code",
   "execution_count": 151,
   "metadata": {},
   "outputs": [
    {
     "data": {
      "text/plain": [
       "PLSRegression()"
      ]
     },
     "execution_count": 151,
     "metadata": {},
     "output_type": "execute_result"
    }
   ],
   "source": [
    "pls2.fit(X_train, y_train)"
   ]
  },
  {
   "cell_type": "code",
   "execution_count": 152,
   "metadata": {},
   "outputs": [],
   "source": [
    "pls_reg = pls2.predict(X_test)"
   ]
  },
  {
   "cell_type": "code",
   "execution_count": 153,
   "metadata": {},
   "outputs": [
    {
     "data": {
      "text/plain": [
       "641883.1658734182"
      ]
     },
     "execution_count": 153,
     "metadata": {},
     "output_type": "execute_result"
    }
   ],
   "source": [
    "pls_rmse = mean_squared_error(y_test, pls_reg, squared=False)\n",
    "pls_rmse"
   ]
  },
  {
   "cell_type": "markdown",
   "metadata": {},
   "source": [
    "### MultiOutputRegressor"
   ]
  },
  {
   "cell_type": "code",
   "execution_count": 154,
   "metadata": {},
   "outputs": [],
   "source": [
    "from sklearn.datasets import make_regression\n",
    "from sklearn.multioutput import MultiOutputRegressor\n",
    "from sklearn.ensemble import GradientBoostingRegressor"
   ]
  },
  {
   "cell_type": "code",
   "execution_count": 155,
   "metadata": {},
   "outputs": [],
   "source": [
    "multi_reg_pred = MultiOutputRegressor(GradientBoostingRegressor(random_state=0)).fit(X_train, y_train).predict(X_test)"
   ]
  },
  {
   "cell_type": "code",
   "execution_count": 156,
   "metadata": {},
   "outputs": [
    {
     "data": {
      "text/plain": [
       "466684.5993208637"
      ]
     },
     "execution_count": 156,
     "metadata": {},
     "output_type": "execute_result"
    }
   ],
   "source": [
    "multi_reg_pred1 = mean_squared_error(y_test, multi_reg_pred, squared=False)\n",
    "multi_reg_pred1"
   ]
  },
  {
   "cell_type": "markdown",
   "metadata": {},
   "source": [
    "### Prediction 2"
   ]
  },
  {
   "cell_type": "code",
   "execution_count": 157,
   "metadata": {},
   "outputs": [],
   "source": [
    "housing_pred2 = multi_reg_pred = MultiOutputRegressor(GradientBoostingRegressor(random_state=0)).fit(X_train, y_train).predict(test)"
   ]
  },
  {
   "cell_type": "code",
   "execution_count": 158,
   "metadata": {},
   "outputs": [],
   "source": [
    "housing_pred2 = pd.DataFrame(housing_pred2, index=test.index, columns=['price'])"
   ]
  },
  {
   "cell_type": "code",
   "execution_count": 159,
   "metadata": {},
   "outputs": [],
   "source": [
    "housing_pred2.to_csv('prediction2.csv')"
   ]
  },
  {
   "cell_type": "markdown",
   "metadata": {},
   "source": [
    "# 2nd part - Second attempt to encode - Label Encoding"
   ]
  },
  {
   "cell_type": "code",
   "execution_count": 160,
   "metadata": {},
   "outputs": [],
   "source": [
    "y = pd.read_csv('y.csv', thousands=',')\n",
    "X = pd.read_csv('X.csv', thousands=',')\n",
    "test = pd.read_csv('test.csv', thousands=',')"
   ]
  },
  {
   "cell_type": "code",
   "execution_count": 161,
   "metadata": {},
   "outputs": [
    {
     "data": {
      "text/html": [
       "<div>\n",
       "<style scoped>\n",
       "    .dataframe tbody tr th:only-of-type {\n",
       "        vertical-align: middle;\n",
       "    }\n",
       "\n",
       "    .dataframe tbody tr th {\n",
       "        vertical-align: top;\n",
       "    }\n",
       "\n",
       "    .dataframe thead th {\n",
       "        text-align: right;\n",
       "    }\n",
       "</style>\n",
       "<table border=\"1\" class=\"dataframe\">\n",
       "  <thead>\n",
       "    <tr style=\"text-align: right;\">\n",
       "      <th></th>\n",
       "      <th>rooms</th>\n",
       "      <th>year_built</th>\n",
       "      <th>location</th>\n",
       "      <th>building_floor_num</th>\n",
       "      <th>garage</th>\n",
       "      <th>district</th>\n",
       "      <th>leasing</th>\n",
       "      <th>balcony</th>\n",
       "      <th>size_meters</th>\n",
       "      <th>door_type</th>\n",
       "      <th>apartment_floor_num</th>\n",
       "      <th>window_type</th>\n",
       "      <th>num_windows</th>\n",
       "      <th>floor_type</th>\n",
       "    </tr>\n",
       "  </thead>\n",
       "  <tbody>\n",
       "    <tr>\n",
       "      <th>0</th>\n",
       "      <td>5+ өрөө</td>\n",
       "      <td>2010</td>\n",
       "      <td>Зайсан</td>\n",
       "      <td>14</td>\n",
       "      <td>Байгаа</td>\n",
       "      <td>Хан-Уул</td>\n",
       "      <td>Лизинггүй</td>\n",
       "      <td>2 тагттай</td>\n",
       "      <td>105.50000</td>\n",
       "      <td>Төмөр вакум</td>\n",
       "      <td>5</td>\n",
       "      <td>Модон вакум</td>\n",
       "      <td>5</td>\n",
       "      <td>Паркет</td>\n",
       "    </tr>\n",
       "  </tbody>\n",
       "</table>\n",
       "</div>"
      ],
      "text/plain": [
       "     rooms  year_built location  building_floor_num  garage district  \\\n",
       "0  5+ өрөө        2010   Зайсан                  14  Байгаа  Хан-Уул   \n",
       "\n",
       "     leasing    balcony  size_meters    door_type  apartment_floor_num  \\\n",
       "0  Лизинггүй  2 тагттай    105.50000  Төмөр вакум                    5   \n",
       "\n",
       "   window_type  num_windows floor_type  \n",
       "0  Модон вакум            5     Паркет  "
      ]
     },
     "execution_count": 161,
     "metadata": {},
     "output_type": "execute_result"
    }
   ],
   "source": [
    "X.head(1)"
   ]
  },
  {
   "cell_type": "code",
   "execution_count": 162,
   "metadata": {},
   "outputs": [
    {
     "data": {
      "text/html": [
       "<div>\n",
       "<style scoped>\n",
       "    .dataframe tbody tr th:only-of-type {\n",
       "        vertical-align: middle;\n",
       "    }\n",
       "\n",
       "    .dataframe tbody tr th {\n",
       "        vertical-align: top;\n",
       "    }\n",
       "\n",
       "    .dataframe thead th {\n",
       "        text-align: right;\n",
       "    }\n",
       "</style>\n",
       "<table border=\"1\" class=\"dataframe\">\n",
       "  <thead>\n",
       "    <tr style=\"text-align: right;\">\n",
       "      <th></th>\n",
       "      <th>price</th>\n",
       "    </tr>\n",
       "  </thead>\n",
       "  <tbody>\n",
       "    <tr>\n",
       "      <th>0</th>\n",
       "      <td>2654028.43602</td>\n",
       "    </tr>\n",
       "    <tr>\n",
       "      <th>1</th>\n",
       "      <td>1737704.91803</td>\n",
       "    </tr>\n",
       "    <tr>\n",
       "      <th>2</th>\n",
       "      <td>1773049.64539</td>\n",
       "    </tr>\n",
       "    <tr>\n",
       "      <th>3</th>\n",
       "      <td>1520527.11607</td>\n",
       "    </tr>\n",
       "    <tr>\n",
       "      <th>4</th>\n",
       "      <td>1107142.85714</td>\n",
       "    </tr>\n",
       "    <tr>\n",
       "      <th>...</th>\n",
       "      <td>...</td>\n",
       "    </tr>\n",
       "    <tr>\n",
       "      <th>3857</th>\n",
       "      <td>1851851.85185</td>\n",
       "    </tr>\n",
       "    <tr>\n",
       "      <th>3858</th>\n",
       "      <td>2063492.06349</td>\n",
       "    </tr>\n",
       "    <tr>\n",
       "      <th>3859</th>\n",
       "      <td>1631578.94737</td>\n",
       "    </tr>\n",
       "    <tr>\n",
       "      <th>3860</th>\n",
       "      <td>1763440.86022</td>\n",
       "    </tr>\n",
       "    <tr>\n",
       "      <th>3861</th>\n",
       "      <td>1600000.00000</td>\n",
       "    </tr>\n",
       "  </tbody>\n",
       "</table>\n",
       "<p>3862 rows × 1 columns</p>\n",
       "</div>"
      ],
      "text/plain": [
       "             price\n",
       "0    2654028.43602\n",
       "1    1737704.91803\n",
       "2    1773049.64539\n",
       "3    1520527.11607\n",
       "4    1107142.85714\n",
       "...            ...\n",
       "3857 1851851.85185\n",
       "3858 2063492.06349\n",
       "3859 1631578.94737\n",
       "3860 1763440.86022\n",
       "3861 1600000.00000\n",
       "\n",
       "[3862 rows x 1 columns]"
      ]
     },
     "execution_count": 162,
     "metadata": {},
     "output_type": "execute_result"
    }
   ],
   "source": [
    "y"
   ]
  },
  {
   "cell_type": "markdown",
   "metadata": {},
   "source": [
    "### Location"
   ]
  },
  {
   "cell_type": "code",
   "execution_count": 164,
   "metadata": {},
   "outputs": [],
   "source": [
    "location_order = ['Баянхошуу', 'Шар хад', 'Амгалан', 'Дамбадаржаа', 'Эрдэнэ толгой',\n",
    "       'Чулуун овоо', 'Өлзийт хороолол', '21-р хороолол', '5 шар', 'Орбит',\n",
    "       'Москва хороолол', 'Дэнжийн 1000', 'Ханын материал', 'Офицер',\n",
    "       'Дарь Эх', 'Viva city', '16-р хороолол', 'Өгөөмөр захын зүүн',\n",
    "       '6-р бичил', 'Нисэх', 'Био комбинат', 'Богд-Ар', '1-р хороолол',\n",
    "       '10-р хороолол', 'Цэлмэг хотхон', '25-р эмийн сан', '15-р хороолол',\n",
    "       '14-р хороолол', 'Толгойт', '100 айл', 'Хос-Өргөө', 'Дөлгөөн нуур',\n",
    "       'UB Town', 'Алтай хотхон', 'Гандан', 'Оддын хороолол', 'Сонсголон',\n",
    "       '2 - 7 буудал', 'Сансар', '3, 4 хороолол', 'Чингэлтэй', 'Нархан хотхон',\n",
    "       'Бага тойрог', '13-р хороолол', 'Баянбүрд', '11-р хороолол',\n",
    "       'Төмөр зам', 'Зүүн 4 зам', 'Olympic village', 'River stone',\n",
    "       'Баруун 4 зам', '19-р хороолол', 'Бусад', 'Нарны хороолол',\n",
    "       'Баянмонгол хороолол', 'Тээврийн товчоо', 'Яармаг', 'Хурд',\n",
    "       'Их Монгол хороолол', 'Олимп хотхон', 'Зайсан', 'Хансвилл хотхон',\n",
    "       'Sunrise', 'Нэхмэлийн шар', '120 мянгат', 'Zaisan luxury village',\n",
    "       'King Tower', '5-р хороолол', 'Хүннү', 'Edu apart campus',\n",
    "       'Marshall town', 'Ханбүргэдэй', '40, 50 мянгат', 'Romana Residence',\n",
    "       'Japan town', '220 мянгат', 'River Garden', 'Bella Vista']"
   ]
  },
  {
   "cell_type": "code",
   "execution_count": 165,
   "metadata": {},
   "outputs": [],
   "source": [
    "X['location'] = pd.Categorical(X['location'], categories=location_order, ordered=True)\n",
    "test['location'] = pd.Categorical(test['location'], categories=location_order, ordered=True)"
   ]
  },
  {
   "cell_type": "code",
   "execution_count": 166,
   "metadata": {},
   "outputs": [
    {
     "data": {
      "text/plain": [
       "Index(['Баянхошуу', 'Шар хад', 'Амгалан', 'Дамбадаржаа', 'Эрдэнэ толгой',\n",
       "       'Чулуун овоо', 'Өлзийт хороолол', '21-р хороолол', '5 шар', 'Орбит',\n",
       "       'Москва хороолол', 'Дэнжийн 1000', 'Ханын материал', 'Офицер',\n",
       "       'Дарь Эх', 'Viva city', '16-р хороолол', 'Өгөөмөр захын зүүн',\n",
       "       '6-р бичил', 'Нисэх', 'Био комбинат', 'Богд-Ар', '1-р хороолол',\n",
       "       '10-р хороолол', 'Цэлмэг хотхон', '25-р эмийн сан', '15-р хороолол',\n",
       "       '14-р хороолол', 'Толгойт', '100 айл', 'Хос-Өргөө', 'Дөлгөөн нуур',\n",
       "       'UB Town', 'Алтай хотхон', 'Гандан', 'Оддын хороолол', 'Сонсголон',\n",
       "       '2 - 7 буудал', 'Сансар', '3, 4 хороолол', 'Чингэлтэй', 'Нархан хотхон',\n",
       "       'Бага тойрог', '13-р хороолол', 'Баянбүрд', '11-р хороолол',\n",
       "       'Төмөр зам', 'Зүүн 4 зам', 'Olympic village', 'River stone',\n",
       "       'Баруун 4 зам', '19-р хороолол', 'Бусад', 'Нарны хороолол',\n",
       "       'Баянмонгол хороолол', 'Тээврийн товчоо', 'Яармаг', 'Хурд',\n",
       "       'Их Монгол хороолол', 'Олимп хотхон', 'Зайсан', 'Хансвилл хотхон',\n",
       "       'Sunrise', 'Нэхмэлийн шар', '120 мянгат', 'Zaisan luxury village',\n",
       "       'King Tower', '5-р хороолол', 'Хүннү', 'Edu apart campus',\n",
       "       'Marshall town', 'Ханбүргэдэй', '40, 50 мянгат', 'Romana Residence',\n",
       "       'Japan town', '220 мянгат', 'River Garden', 'Bella Vista'],\n",
       "      dtype='object')"
      ]
     },
     "execution_count": 166,
     "metadata": {},
     "output_type": "execute_result"
    }
   ],
   "source": [
    "X['location'].cat.categories\n",
    "test['location'].cat.categories"
   ]
  },
  {
   "cell_type": "code",
   "execution_count": 167,
   "metadata": {},
   "outputs": [],
   "source": [
    "X['location'] = X['location'].cat.codes\n",
    "test['location'] = test['location'].cat.codes"
   ]
  },
  {
   "cell_type": "code",
   "execution_count": 168,
   "metadata": {},
   "outputs": [
    {
     "data": {
      "text/plain": [
       "0       60\n",
       "1       19\n",
       "2       52\n",
       "3       25\n",
       "4        7\n",
       "        ..\n",
       "3857    56\n",
       "3858    44\n",
       "3859    29\n",
       "3860    52\n",
       "3861    29\n",
       "Name: location, Length: 3862, dtype: int8"
      ]
     },
     "execution_count": 168,
     "metadata": {},
     "output_type": "execute_result"
    }
   ],
   "source": [
    "X['location']"
   ]
  },
  {
   "cell_type": "code",
   "execution_count": 169,
   "metadata": {},
   "outputs": [
    {
     "data": {
      "text/plain": [
       "array([60, 19, 52, 25,  7, 29, 16, 64, 22, 39, 56, 43, 49, 51, 45, 57, 61,\n",
       "       74, 24, 15, 76, 23, 18, 13,  2, 10, 27, 72, 62, 47, 75, 38, 28, 58,\n",
       "        8, 53, 33, 70, 54, 46, 32, 12, 31, 26, 42, 66, 63, 68, 50, 40, 21,\n",
       "       67, 30, 17, 34, 59,  5, 77,  0, 55,  4,  6,  3, 11, 44, 65,  9, 73,\n",
       "       48, 37, 41, 71, 14, 35,  1, 36, 20, 69], dtype=int8)"
      ]
     },
     "execution_count": 169,
     "metadata": {},
     "output_type": "execute_result"
    }
   ],
   "source": [
    "X['location'].unique()"
   ]
  },
  {
   "cell_type": "markdown",
   "metadata": {},
   "source": [
    "### Rooms"
   ]
  },
  {
   "cell_type": "markdown",
   "metadata": {},
   "source": [
    "Even though, the highest average price was for 4 rooms. But I think it is better to keep numbers as number of rooms."
   ]
  },
  {
   "cell_type": "code",
   "execution_count": 170,
   "metadata": {},
   "outputs": [
    {
     "data": {
      "text/plain": [
       "array(['5+ өрөө', '2 өрөө', '1 өрөө', '4 өрөө', '3 өрөө'], dtype=object)"
      ]
     },
     "execution_count": 170,
     "metadata": {},
     "output_type": "execute_result"
    }
   ],
   "source": [
    "X['rooms'].unique()"
   ]
  },
  {
   "cell_type": "code",
   "execution_count": 171,
   "metadata": {},
   "outputs": [],
   "source": [
    "X['rooms'] = X['rooms'].str[0]\n",
    "test['rooms'] = test['rooms'].str[0]"
   ]
  },
  {
   "cell_type": "code",
   "execution_count": 172,
   "metadata": {},
   "outputs": [],
   "source": [
    "X['rooms'] = X['rooms'].astype(int)\n",
    "test['rooms'] = test['rooms'].astype(int)"
   ]
  },
  {
   "cell_type": "code",
   "execution_count": 173,
   "metadata": {},
   "outputs": [
    {
     "data": {
      "text/plain": [
       "0       5\n",
       "1       2\n",
       "2       2\n",
       "3       2\n",
       "4       2\n",
       "       ..\n",
       "3857    2\n",
       "3858    2\n",
       "3859    1\n",
       "3860    2\n",
       "3861    2\n",
       "Name: rooms, Length: 3862, dtype: int32"
      ]
     },
     "execution_count": 173,
     "metadata": {},
     "output_type": "execute_result"
    }
   ],
   "source": [
    "X['rooms']"
   ]
  },
  {
   "cell_type": "code",
   "execution_count": 174,
   "metadata": {},
   "outputs": [
    {
     "data": {
      "text/plain": [
       "0      2\n",
       "1      2\n",
       "2      1\n",
       "3      1\n",
       "4      2\n",
       "      ..\n",
       "961    3\n",
       "962    5\n",
       "963    1\n",
       "964    3\n",
       "965    4\n",
       "Name: rooms, Length: 966, dtype: int32"
      ]
     },
     "execution_count": 174,
     "metadata": {},
     "output_type": "execute_result"
    }
   ],
   "source": [
    "test['rooms']"
   ]
  },
  {
   "cell_type": "markdown",
   "metadata": {},
   "source": [
    "### Garage"
   ]
  },
  {
   "cell_type": "code",
   "execution_count": 175,
   "metadata": {},
   "outputs": [
    {
     "data": {
      "text/plain": [
       "array(['Байгаа', 'Байхгүй'], dtype=object)"
      ]
     },
     "execution_count": 175,
     "metadata": {},
     "output_type": "execute_result"
    }
   ],
   "source": [
    "X['garage'].unique()"
   ]
  },
  {
   "cell_type": "code",
   "execution_count": 176,
   "metadata": {},
   "outputs": [
    {
     "data": {
      "text/plain": [
       "array(['Байхгүй', 'Байгаа'], dtype=object)"
      ]
     },
     "execution_count": 176,
     "metadata": {},
     "output_type": "execute_result"
    }
   ],
   "source": [
    "test['garage'].unique()"
   ]
  },
  {
   "cell_type": "code",
   "execution_count": 177,
   "metadata": {},
   "outputs": [],
   "source": [
    "garage_order = ['Байхгүй', 'Байгаа']"
   ]
  },
  {
   "cell_type": "code",
   "execution_count": 178,
   "metadata": {},
   "outputs": [],
   "source": [
    "X['garage'] = pd.Categorical(X['garage'], categories=garage_order, ordered=True)\n",
    "test['garage'] = pd.Categorical(test['garage'], categories=garage_order, ordered=True)"
   ]
  },
  {
   "cell_type": "code",
   "execution_count": 179,
   "metadata": {},
   "outputs": [
    {
     "data": {
      "text/plain": [
       "0        Байгаа\n",
       "1        Байгаа\n",
       "2        Байгаа\n",
       "3        Байгаа\n",
       "4       Байхгүй\n",
       "         ...   \n",
       "3857     Байгаа\n",
       "3858     Байгаа\n",
       "3859    Байхгүй\n",
       "3860    Байхгүй\n",
       "3861    Байхгүй\n",
       "Name: garage, Length: 3862, dtype: category\n",
       "Categories (2, object): ['Байхгүй' < 'Байгаа']"
      ]
     },
     "execution_count": 179,
     "metadata": {},
     "output_type": "execute_result"
    }
   ],
   "source": [
    "X['garage']"
   ]
  },
  {
   "cell_type": "code",
   "execution_count": 180,
   "metadata": {},
   "outputs": [
    {
     "data": {
      "text/plain": [
       "0      Байхгүй\n",
       "1      Байхгүй\n",
       "2      Байхгүй\n",
       "3      Байхгүй\n",
       "4      Байхгүй\n",
       "        ...   \n",
       "961    Байхгүй\n",
       "962     Байгаа\n",
       "963    Байхгүй\n",
       "964    Байхгүй\n",
       "965    Байхгүй\n",
       "Name: garage, Length: 966, dtype: category\n",
       "Categories (2, object): ['Байхгүй' < 'Байгаа']"
      ]
     },
     "execution_count": 180,
     "metadata": {},
     "output_type": "execute_result"
    }
   ],
   "source": [
    "test['garage']"
   ]
  },
  {
   "cell_type": "code",
   "execution_count": 181,
   "metadata": {},
   "outputs": [
    {
     "data": {
      "text/plain": [
       "Index(['Байхгүй', 'Байгаа'], dtype='object')"
      ]
     },
     "execution_count": 181,
     "metadata": {},
     "output_type": "execute_result"
    }
   ],
   "source": [
    "X['garage'].cat.categories\n",
    "test['garage'].cat.categories"
   ]
  },
  {
   "cell_type": "code",
   "execution_count": 182,
   "metadata": {},
   "outputs": [],
   "source": [
    "X['garage'] = X['garage'].cat.codes\n",
    "test['garage'] = test['garage'].cat.codes"
   ]
  },
  {
   "cell_type": "markdown",
   "metadata": {},
   "source": [
    "### Districts"
   ]
  },
  {
   "cell_type": "code",
   "execution_count": 183,
   "metadata": {},
   "outputs": [],
   "source": [
    "dist_order = ['Сонгино Хайрхан', 'Баянгол', 'Баянзүрх', 'Чингэлтэй', 'Хан-Уул', 'Сүхбаатар']"
   ]
  },
  {
   "cell_type": "code",
   "execution_count": 184,
   "metadata": {},
   "outputs": [],
   "source": [
    "X['district'] = pd.Categorical(X['district'], categories=dist_order, ordered=True)\n",
    "test['district'] = pd.Categorical(test['district'], categories=dist_order, ordered=True)"
   ]
  },
  {
   "cell_type": "code",
   "execution_count": 185,
   "metadata": {},
   "outputs": [
    {
     "data": {
      "text/plain": [
       "Index(['Сонгино Хайрхан', 'Баянгол', 'Баянзүрх', 'Чингэлтэй', 'Хан-Уул',\n",
       "       'Сүхбаатар'],\n",
       "      dtype='object')"
      ]
     },
     "execution_count": 185,
     "metadata": {},
     "output_type": "execute_result"
    }
   ],
   "source": [
    "X['district'].cat.categories\n",
    "test['district'].cat.categories"
   ]
  },
  {
   "cell_type": "code",
   "execution_count": 186,
   "metadata": {},
   "outputs": [],
   "source": [
    "X['district'] = X['district'].cat.codes\n",
    "test['district'] = test['district'].cat.codes"
   ]
  },
  {
   "cell_type": "markdown",
   "metadata": {},
   "source": [
    "### Leasing"
   ]
  },
  {
   "cell_type": "code",
   "execution_count": 187,
   "metadata": {},
   "outputs": [],
   "source": [
    "leasing_order = ['Лизинггүй', 'Банкны лизингтэй', 'Хувь лизингтэй']"
   ]
  },
  {
   "cell_type": "code",
   "execution_count": 188,
   "metadata": {},
   "outputs": [],
   "source": [
    "X['leasing'] = pd.Categorical(X['leasing'], categories=leasing_order, ordered=True)\n",
    "test['leasing'] = pd.Categorical(test['leasing'], categories=leasing_order, ordered=True)"
   ]
  },
  {
   "cell_type": "code",
   "execution_count": 189,
   "metadata": {},
   "outputs": [
    {
     "data": {
      "text/plain": [
       "Index(['Лизинггүй', 'Банкны лизингтэй', 'Хувь лизингтэй'], dtype='object')"
      ]
     },
     "execution_count": 189,
     "metadata": {},
     "output_type": "execute_result"
    }
   ],
   "source": [
    "X['leasing'].cat.categories\n",
    "test['leasing'].cat.categories"
   ]
  },
  {
   "cell_type": "code",
   "execution_count": 190,
   "metadata": {},
   "outputs": [],
   "source": [
    "X['leasing'] = X['leasing'].cat.codes\n",
    "test['leasing'] = test['leasing'].cat.codes"
   ]
  },
  {
   "cell_type": "markdown",
   "metadata": {},
   "source": [
    "### Balcony"
   ]
  },
  {
   "cell_type": "code",
   "execution_count": 191,
   "metadata": {},
   "outputs": [
    {
     "data": {
      "text/plain": [
       "array(['2 тагттай', '1 тагттай', 'Тагтгүй', '3+ тагттай'], dtype=object)"
      ]
     },
     "execution_count": 191,
     "metadata": {},
     "output_type": "execute_result"
    }
   ],
   "source": [
    "X['balcony'].unique()"
   ]
  },
  {
   "cell_type": "code",
   "execution_count": 192,
   "metadata": {},
   "outputs": [
    {
     "data": {
      "text/plain": [
       "array(['1 тагттай', 'Тагтгүй', '2 тагттай', '3+ тагттай'], dtype=object)"
      ]
     },
     "execution_count": 192,
     "metadata": {},
     "output_type": "execute_result"
    }
   ],
   "source": [
    "test['balcony'].unique()"
   ]
  },
  {
   "cell_type": "code",
   "execution_count": 193,
   "metadata": {},
   "outputs": [],
   "source": [
    "X['balcony'] = X['balcony'].str[0]\n",
    "test['balcony'] = test['balcony'].str[0]"
   ]
  },
  {
   "cell_type": "code",
   "execution_count": 194,
   "metadata": {},
   "outputs": [],
   "source": [
    "X['balcony'] = X['balcony'].replace('Т', 0)\n",
    "test['balcony'] = test['balcony'].replace('Т', 0)"
   ]
  },
  {
   "cell_type": "code",
   "execution_count": 195,
   "metadata": {},
   "outputs": [],
   "source": [
    "X['balcony'] = X['balcony'].astype(int)\n",
    "test['balcony'] = test['balcony'].astype(int)"
   ]
  },
  {
   "cell_type": "markdown",
   "metadata": {},
   "source": [
    "### Door type"
   ]
  },
  {
   "cell_type": "code",
   "execution_count": 196,
   "metadata": {},
   "outputs": [],
   "source": [
    "door_order = ['Вакум', 'Бүргэд', 'Төмөр', 'Мод', 'Төмөр вакум']"
   ]
  },
  {
   "cell_type": "code",
   "execution_count": 197,
   "metadata": {},
   "outputs": [],
   "source": [
    "X['door_type'] = pd.Categorical(X['door_type'], categories=door_order, ordered=True)\n",
    "test['door_type'] = pd.Categorical(test['door_type'], categories=door_order, ordered=True)"
   ]
  },
  {
   "cell_type": "code",
   "execution_count": 198,
   "metadata": {},
   "outputs": [
    {
     "data": {
      "text/plain": [
       "Index(['Вакум', 'Бүргэд', 'Төмөр', 'Мод', 'Төмөр вакум'], dtype='object')"
      ]
     },
     "execution_count": 198,
     "metadata": {},
     "output_type": "execute_result"
    }
   ],
   "source": [
    "X['door_type'].cat.categories\n",
    "test['door_type'].cat.categories"
   ]
  },
  {
   "cell_type": "code",
   "execution_count": 199,
   "metadata": {},
   "outputs": [],
   "source": [
    "X['door_type'] = X['door_type'].cat.codes\n",
    "test['door_type'] = test['door_type'].cat.codes"
   ]
  },
  {
   "cell_type": "markdown",
   "metadata": {},
   "source": [
    "### Window type"
   ]
  },
  {
   "cell_type": "code",
   "execution_count": 200,
   "metadata": {},
   "outputs": [],
   "source": [
    "window_order = ['Мод', 'Вакум', 'Модон вакум', 'Төмөр вакум']"
   ]
  },
  {
   "cell_type": "code",
   "execution_count": 201,
   "metadata": {},
   "outputs": [],
   "source": [
    "X['window_type'] = pd.Categorical(X['window_type'], categories=window_order, ordered=True)\n",
    "test['window_type'] = pd.Categorical(test['window_type'], categories=window_order, ordered=True)"
   ]
  },
  {
   "cell_type": "code",
   "execution_count": 202,
   "metadata": {},
   "outputs": [
    {
     "data": {
      "text/plain": [
       "Index(['Мод', 'Вакум', 'Модон вакум', 'Төмөр вакум'], dtype='object')"
      ]
     },
     "execution_count": 202,
     "metadata": {},
     "output_type": "execute_result"
    }
   ],
   "source": [
    "X['window_type'].cat.categories\n",
    "test['window_type'].cat.categories"
   ]
  },
  {
   "cell_type": "code",
   "execution_count": 203,
   "metadata": {},
   "outputs": [],
   "source": [
    "X['window_type'] = X['window_type'].cat.codes\n",
    "test['window_type'] = test['window_type'].cat.codes"
   ]
  },
  {
   "cell_type": "markdown",
   "metadata": {},
   "source": [
    "### Floor type"
   ]
  },
  {
   "cell_type": "code",
   "execution_count": 204,
   "metadata": {},
   "outputs": [],
   "source": [
    "floor_order = ['Плита', 'Цемент', 'Паркет', 'Мод', 'Чулуу', 'Ламинат']"
   ]
  },
  {
   "cell_type": "code",
   "execution_count": 205,
   "metadata": {},
   "outputs": [],
   "source": [
    "X['floor_type'] = pd.Categorical(X['floor_type'], categories=floor_order, ordered=True)\n",
    "test['floor_type'] = pd.Categorical(test['floor_type'], categories=floor_order, ordered=True)"
   ]
  },
  {
   "cell_type": "code",
   "execution_count": 206,
   "metadata": {},
   "outputs": [
    {
     "data": {
      "text/plain": [
       "Index(['Плита', 'Цемент', 'Паркет', 'Мод', 'Чулуу', 'Ламинат'], dtype='object')"
      ]
     },
     "execution_count": 206,
     "metadata": {},
     "output_type": "execute_result"
    }
   ],
   "source": [
    "X['floor_type'].cat.categories\n",
    "test['floor_type'].cat.categories"
   ]
  },
  {
   "cell_type": "code",
   "execution_count": 207,
   "metadata": {},
   "outputs": [],
   "source": [
    "X['floor_type'] = X['floor_type'].cat.codes\n",
    "test['floor_type'] = test['floor_type'].cat.codes"
   ]
  },
  {
   "cell_type": "code",
   "execution_count": 208,
   "metadata": {},
   "outputs": [
    {
     "data": {
      "text/plain": [
       "rooms                    int32\n",
       "year_built               int64\n",
       "location                  int8\n",
       "building_floor_num       int64\n",
       "garage                    int8\n",
       "district                  int8\n",
       "leasing                   int8\n",
       "balcony                  int32\n",
       "size_meters            float64\n",
       "door_type                 int8\n",
       "apartment_floor_num      int64\n",
       "window_type               int8\n",
       "num_windows              int64\n",
       "floor_type                int8\n",
       "dtype: object"
      ]
     },
     "execution_count": 208,
     "metadata": {},
     "output_type": "execute_result"
    }
   ],
   "source": [
    "X.dtypes"
   ]
  },
  {
   "cell_type": "code",
   "execution_count": 209,
   "metadata": {},
   "outputs": [
    {
     "data": {
      "text/plain": [
       "id                       int64\n",
       "rooms                    int32\n",
       "year_built               int64\n",
       "location                  int8\n",
       "building_floor_num       int64\n",
       "garage                    int8\n",
       "district                  int8\n",
       "leasing                   int8\n",
       "balcony                  int32\n",
       "size_meters            float64\n",
       "door_type                 int8\n",
       "apartment_floor_num      int64\n",
       "window_type               int8\n",
       "num_windows              int64\n",
       "floor_type                int8\n",
       "dtype: object"
      ]
     },
     "execution_count": 209,
     "metadata": {},
     "output_type": "execute_result"
    }
   ],
   "source": [
    "test.dtypes"
   ]
  },
  {
   "cell_type": "markdown",
   "metadata": {},
   "source": [
    "## Importing Libraries"
   ]
  },
  {
   "cell_type": "code",
   "execution_count": 210,
   "metadata": {},
   "outputs": [],
   "source": [
    "from sklearn import *\n",
    "import sklearn"
   ]
  },
  {
   "cell_type": "markdown",
   "metadata": {},
   "source": [
    "## Traing different Models"
   ]
  },
  {
   "cell_type": "code",
   "execution_count": 211,
   "metadata": {},
   "outputs": [],
   "source": [
    "from sklearn.model_selection import train_test_split\n",
    "X_train, X_test, y_train, y_test = train_test_split(X, y, test_size=0.2, random_state=525)"
   ]
  },
  {
   "cell_type": "code",
   "execution_count": 212,
   "metadata": {},
   "outputs": [],
   "source": [
    "from sklearn.metrics import mean_squared_error"
   ]
  },
  {
   "cell_type": "markdown",
   "metadata": {},
   "source": [
    "### Random Forest"
   ]
  },
  {
   "cell_type": "code",
   "execution_count": 213,
   "metadata": {},
   "outputs": [
    {
     "name": "stderr",
     "output_type": "stream",
     "text": [
      "<ipython-input-213-bf9f8df3de1a>:4: DataConversionWarning: A column-vector y was passed when a 1d array was expected. Please change the shape of y to (n_samples,), for example using ravel().\n",
      "  forest_reg.fit(X_train, y_train)\n"
     ]
    },
    {
     "data": {
      "text/plain": [
       "RandomForestRegressor(n_jobs=-1, random_state=42)"
      ]
     },
     "execution_count": 213,
     "metadata": {},
     "output_type": "execute_result"
    }
   ],
   "source": [
    "from sklearn.ensemble import RandomForestRegressor\n",
    "\n",
    "forest_reg = RandomForestRegressor(n_estimators=100, random_state=42, n_jobs=-1)\n",
    "forest_reg.fit(X_train, y_train)"
   ]
  },
  {
   "cell_type": "code",
   "execution_count": 214,
   "metadata": {},
   "outputs": [
    {
     "data": {
      "text/plain": [
       "395999.31173372787"
      ]
     },
     "execution_count": 214,
     "metadata": {},
     "output_type": "execute_result"
    }
   ],
   "source": [
    "random_predictions = forest_reg.predict(X_test)\n",
    "forest_mse = mean_squared_error(y_test, random_predictions)\n",
    "forest_rmse = np.sqrt(forest_mse)\n",
    "forest_rmse"
   ]
  },
  {
   "cell_type": "markdown",
   "metadata": {},
   "source": [
    "### Prediction 3"
   ]
  },
  {
   "cell_type": "code",
   "execution_count": 215,
   "metadata": {},
   "outputs": [],
   "source": [
    "test = test.set_index('id', drop=True)"
   ]
  },
  {
   "cell_type": "code",
   "execution_count": 216,
   "metadata": {},
   "outputs": [],
   "source": [
    "random_predictions3 = forest_reg.predict(test)"
   ]
  },
  {
   "cell_type": "code",
   "execution_count": 217,
   "metadata": {},
   "outputs": [],
   "source": [
    "housing_pred3 = pd.DataFrame(random_predictions3, index=test.index, columns=['price'])"
   ]
  },
  {
   "cell_type": "code",
   "execution_count": 218,
   "metadata": {},
   "outputs": [],
   "source": [
    "housing_pred3.to_csv(\"prediction3.csv\")"
   ]
  },
  {
   "cell_type": "markdown",
   "metadata": {},
   "source": [
    "### MultiOutputRegressor"
   ]
  },
  {
   "cell_type": "code",
   "execution_count": 219,
   "metadata": {},
   "outputs": [],
   "source": [
    "from sklearn.datasets import make_regression\n",
    "from sklearn.multioutput import MultiOutputRegressor\n",
    "from sklearn.ensemble import GradientBoostingRegressor"
   ]
  },
  {
   "cell_type": "code",
   "execution_count": 220,
   "metadata": {},
   "outputs": [],
   "source": [
    "multi_reg_pred = MultiOutputRegressor(GradientBoostingRegressor(random_state=0)).fit(X_train, y_train).predict(X_test)"
   ]
  },
  {
   "cell_type": "code",
   "execution_count": 221,
   "metadata": {},
   "outputs": [
    {
     "data": {
      "text/plain": [
       "432420.9742902568"
      ]
     },
     "execution_count": 221,
     "metadata": {},
     "output_type": "execute_result"
    }
   ],
   "source": [
    "multi_reg_pred1 = mean_squared_error(y_test, multi_reg_pred, squared=False)\n",
    "multi_reg_pred1"
   ]
  },
  {
   "cell_type": "markdown",
   "metadata": {},
   "source": [
    "### XG"
   ]
  },
  {
   "cell_type": "code",
   "execution_count": 222,
   "metadata": {},
   "outputs": [],
   "source": [
    "import xgboost as xgb"
   ]
  },
  {
   "cell_type": "code",
   "execution_count": null,
   "metadata": {},
   "outputs": [],
   "source": []
  }
 ],
 "metadata": {
  "kernelspec": {
   "display_name": "Python 3 (ipykernel)",
   "language": "python",
   "name": "python3"
  },
  "language_info": {
   "codemirror_mode": {
    "name": "ipython",
    "version": 3
   },
   "file_extension": ".py",
   "mimetype": "text/x-python",
   "name": "python",
   "nbconvert_exporter": "python",
   "pygments_lexer": "ipython3",
   "version": "3.12.2"
  }
 },
 "nbformat": 4,
 "nbformat_minor": 4
}
